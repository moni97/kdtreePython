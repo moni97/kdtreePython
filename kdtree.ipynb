{
 "cells": [
  {
   "cell_type": "markdown",
   "id": "876fab78",
   "metadata": {
    "toc": true
   },
   "source": [
    "<h1>Table of Contents<span class=\"tocSkip\"></span></h1>\n",
    "<div class=\"toc\"><ul class=\"toc-item\"></ul></div>"
   ]
  },
  {
   "cell_type": "code",
   "execution_count": 1,
   "id": "25ad53f7",
   "metadata": {},
   "outputs": [],
   "source": [
    "import statistics\n",
    "import numpy as np"
   ]
  },
  {
   "cell_type": "code",
   "execution_count": 2,
   "id": "d000bed0",
   "metadata": {},
   "outputs": [],
   "source": [
    "class Node:\n",
    "    def __init__(self, val, dim = -1):\n",
    "        self.right = self.left = None\n",
    "        self.val = val\n",
    "        self.dim = dim\n",
    "\n",
    "class KDTree:\n",
    "    def __init__(self, axis, points):\n",
    "        self.axis = axis\n",
    "        self.points = points\n",
    "        \n",
    "    def buildKdTree(points, dim = 0, debug=False):\n",
    "        nextDim = (dim + 1) % 2\n",
    "\n",
    "        if len(points) == 1:\n",
    "            return Node(points[0], nextDim)\n",
    "\n",
    "        # Get points sorted based on the axis\n",
    "        if dim % 2 == 0:\n",
    "            # Sorting points on x-axis\n",
    "            sortedPoints = points[np.lexsort((points[:,1],points[:,0]))]\n",
    "        else:\n",
    "            # Sorting points on y-axis\n",
    "            sortedPoints = points[np.lexsort((points[:,0],points[:,1]))]\n",
    "\n",
    "        medianIndex = len(points) // 2\n",
    "        median = sortedPoints[medianIndex]\n",
    "        leftPoints = sortedPoints[:medianIndex]\n",
    "        rightPoints = sortedPoints[medianIndex+1:]\n",
    "\n",
    "        if (debug) \n",
    "            print(\"sorted based on: \", dim , sortedPoints)\n",
    "            print(\"median: \", median)\n",
    "            print(\"leftPoints: \", leftPoints)\n",
    "            print(\"rightPoints: \", rightPoints)\n",
    "\n",
    "        root = Node(median, dim)\n",
    "        root.left = buildKdTree(leftPoints, nextDim) if len(leftPoints > 0) else []\n",
    "        root.right = buildKdTree(rightPoints, nextDim) if len(rightPoints > 0) else []\n",
    "\n",
    "        return root"
   ]
  },
  {
   "cell_type": "code",
   "execution_count": 42,
   "id": "6d28fa9c",
   "metadata": {},
   "outputs": [],
   "source": [
    "def buildKdTree(points, dim = 0, debug=False):\n",
    "    nextDim = (dim + 1) % 2\n",
    "    \n",
    "    if len(points) == 1:\n",
    "        return Node(points[0], nextDim)\n",
    "\n",
    "    # Get points sorted based on the axis\n",
    "    if dim % 2 == 0:\n",
    "        # Sorting points on x-axis\n",
    "        sortedPoints = points[np.lexsort((points[:,1],points[:,0]))]\n",
    "    else:\n",
    "        # Sorting points on y-axis\n",
    "        sortedPoints = points[np.lexsort((points[:,0],points[:,1]))]\n",
    "    \n",
    "    medianIndex = len(points) // 2\n",
    "    median = sortedPoints[medianIndex]\n",
    "    leftPoints = sortedPoints[:medianIndex]\n",
    "    rightPoints = sortedPoints[medianIndex+1:]\n",
    "    \n",
    "    if (debug) \n",
    "        print(\"sorted based on: \", dim , sortedPoints)\n",
    "        print(\"median: \", median)\n",
    "        print(\"leftPoints: \", leftPoints)\n",
    "        print(\"rightPoints: \", rightPoints)\n",
    "    \n",
    "    root = Node(median, dim)\n",
    "    root.left = buildKdTree(leftPoints, nextDim) if len(leftPoints > 0) else []\n",
    "    root.right = buildKdTree(rightPoints, nextDim) if len(rightPoints > 0) else []\n",
    "    \n",
    "    return root"
   ]
  },
  {
   "cell_type": "code",
   "execution_count": 11,
   "id": "465b50ac",
   "metadata": {},
   "outputs": [],
   "source": [
    "def preorderTraversal(root):\n",
    "    res, stack = [], [root]\n",
    "    while stack:\n",
    "        node = stack.pop()\n",
    "        if node:\n",
    "            res.insert(0, node.val)\n",
    "            stack.append(node.left)\n",
    "            stack.append(node.right)\n",
    "    print(\"res: \", res)\n",
    "    return res"
   ]
  },
  {
   "cell_type": "code",
   "execution_count": 17,
   "id": "5ef7c419",
   "metadata": {},
   "outputs": [],
   "source": [
    "def dfs(root):\n",
    "    res, stack = [], [root]\n",
    "    while stack:\n",
    "        for i in range(len(stack)):\n",
    "            node = stack.pop(0)\n",
    "            if node:\n",
    "                stack.append(node.left)\n",
    "                stack.append(node.right)\n",
    "                print(\"root: \", node.val, node.dim if node else \"None\", \"left: \", node.left.val if node.left else \"None\", \"right: \", node.right.val if node.right else \"None\")    "
   ]
  },
  {
   "cell_type": "code",
   "execution_count": 21,
   "id": "e5c107f6",
   "metadata": {},
   "outputs": [],
   "source": [
    "points = np.array([(86, 338), (164, 360), (75, 58), (5,358),(400, 346), (281, 411), (136, 39),(324, 54),(296,332)])"
   ]
  },
  {
   "cell_type": "code",
   "execution_count": 43,
   "id": "ce9b4dfd",
   "metadata": {},
   "outputs": [
    {
     "name": "stdout",
     "output_type": "stream",
     "text": [
      "sorted based on:  0 [[  5 358]\n",
      " [ 75  58]\n",
      " [ 86 338]\n",
      " [136  39]\n",
      " [164 360]\n",
      " [281 411]\n",
      " [296 332]\n",
      " [324  54]\n",
      " [400 346]]\n",
      "median:  [164 360]\n",
      "leftPoints:  [[  5 358]\n",
      " [ 75  58]\n",
      " [ 86 338]\n",
      " [136  39]]\n",
      "rightPoints:  [[281 411]\n",
      " [296 332]\n",
      " [324  54]\n",
      " [400 346]]\n",
      "sorted based on:  1 [[136  39]\n",
      " [ 75  58]\n",
      " [ 86 338]\n",
      " [  5 358]]\n",
      "median:  [ 86 338]\n",
      "leftPoints:  [[136  39]\n",
      " [ 75  58]]\n",
      "rightPoints:  [[  5 358]]\n",
      "sorted based on:  0 [[ 75  58]\n",
      " [136  39]]\n",
      "median:  [136  39]\n",
      "leftPoints:  [[75 58]]\n",
      "rightPoints:  []\n",
      "sorted based on:  1 [[324  54]\n",
      " [296 332]\n",
      " [400 346]\n",
      " [281 411]]\n",
      "median:  [400 346]\n",
      "leftPoints:  [[324  54]\n",
      " [296 332]]\n",
      "rightPoints:  [[281 411]]\n",
      "sorted based on:  0 [[296 332]\n",
      " [324  54]]\n",
      "median:  [324  54]\n",
      "leftPoints:  [[296 332]]\n",
      "rightPoints:  []\n"
     ]
    }
   ],
   "source": [
    "root = buildKdTree(points, 0)"
   ]
  },
  {
   "cell_type": "code",
   "execution_count": 44,
   "id": "8dd5114e",
   "metadata": {},
   "outputs": [
    {
     "name": "stdout",
     "output_type": "stream",
     "text": [
      "res:  [array([75, 58]), array([136,  39]), array([  5, 358]), array([ 86, 338]), array([296, 332]), array([324,  54]), array([281, 411]), array([400, 346]), array([164, 360])]\n"
     ]
    }
   ],
   "source": [
    "preorder = preorderTraversal(root)"
   ]
  },
  {
   "cell_type": "code",
   "execution_count": 45,
   "id": "60827372",
   "metadata": {},
   "outputs": [
    {
     "name": "stdout",
     "output_type": "stream",
     "text": [
      "root:  [164 360] 0 left:  [ 86 338] right:  [400 346]\n",
      "root:  [ 86 338] 1 left:  [136  39] right:  [  5 358]\n",
      "root:  [400 346] 1 left:  [324  54] right:  [281 411]\n",
      "root:  [136  39] 0 left:  [75 58] right:  None\n",
      "root:  [  5 358] 1 left:  None right:  None\n",
      "root:  [324  54] 0 left:  [296 332] right:  None\n",
      "root:  [281 411] 1 left:  None right:  None\n",
      "root:  [75 58] 0 left:  None right:  None\n",
      "root:  [296 332] 0 left:  None right:  None\n"
     ]
    }
   ],
   "source": [
    "dfs(root)"
   ]
  },
  {
   "cell_type": "code",
   "execution_count": 32,
   "id": "6d4db128",
   "metadata": {},
   "outputs": [
    {
     "data": {
      "text/plain": [
       "(array([[  5, 358],\n",
       "        [ 75,  58],\n",
       "        [ 86, 338],\n",
       "        [136,  39],\n",
       "        [164, 360],\n",
       "        [281, 411],\n",
       "        [296, 332],\n",
       "        [324,  54],\n",
       "        [400, 346]]),\n",
       " array([[ 75,  58],\n",
       "        [ 86, 338],\n",
       "        [136,  39],\n",
       "        [164, 360],\n",
       "        [281, 411],\n",
       "        [296, 332],\n",
       "        [324,  54],\n",
       "        [400, 346]]),\n",
       " array([[136,  39],\n",
       "        [324,  54],\n",
       "        [ 75,  58],\n",
       "        [296, 332],\n",
       "        [ 86, 338],\n",
       "        [400, 346],\n",
       "        [  5, 358],\n",
       "        [164, 360],\n",
       "        [281, 411]]))"
      ]
     },
     "execution_count": 32,
     "metadata": {},
     "output_type": "execute_result"
    }
   ],
   "source": [
    "dim1Sorted = np.lexsort((points[:,1],points[:,0])) \n",
    "dim2Sorted = np.lexsort((points[:,0],points[:,1]))\n",
    "points[dim1Sorted], points[dim1Sorted][1:], points[dim2Sorted]"
   ]
  }
 ],
 "metadata": {
  "kernelspec": {
   "display_name": "Python 3",
   "language": "python",
   "name": "python3"
  },
  "language_info": {
   "codemirror_mode": {
    "name": "ipython",
    "version": 3
   },
   "file_extension": ".py",
   "mimetype": "text/x-python",
   "name": "python",
   "nbconvert_exporter": "python",
   "pygments_lexer": "ipython3",
   "version": "3.8.8"
  },
  "toc": {
   "base_numbering": 1,
   "nav_menu": {},
   "number_sections": true,
   "sideBar": true,
   "skip_h1_title": false,
   "title_cell": "Table of Contents",
   "title_sidebar": "Contents",
   "toc_cell": true,
   "toc_position": {},
   "toc_section_display": true,
   "toc_window_display": false
  }
 },
 "nbformat": 4,
 "nbformat_minor": 5
}
