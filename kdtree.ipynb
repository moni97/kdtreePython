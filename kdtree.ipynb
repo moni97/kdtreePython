{
 "cells": [
  {
   "cell_type": "markdown",
   "id": "876fab78",
   "metadata": {
    "toc": true
   },
   "source": [
    "<h1>Table of Contents<span class=\"tocSkip\"></span></h1>\n",
    "<div class=\"toc\"><ul class=\"toc-item\"></ul></div>"
   ]
  },
  {
   "cell_type": "code",
   "execution_count": 1,
   "id": "25ad53f7",
   "metadata": {},
   "outputs": [],
   "source": [
    "import statistics\n",
    "import numpy as np\n",
    "import sys\n",
    "from graphviz import Digraph"
   ]
  },
  {
   "cell_type": "code",
   "execution_count": 2,
   "id": "d000bed0",
   "metadata": {},
   "outputs": [],
   "source": [
    "class Node:\n",
    "    def __init__(self, val, weight, axis=0, minWeight=0, maxWeight=0, count=0):\n",
    "        self.right = self.left = None\n",
    "        self.val = val\n",
    "        self.weight = weight\n",
    "        self.axis = axis\n",
    "        self.minWeight = minWeight\n",
    "        self.maxWeight = maxWeight\n",
    "        self.count = count"
   ]
  },
  {
   "cell_type": "code",
   "execution_count": 3,
   "id": "465b50ac",
   "metadata": {},
   "outputs": [],
   "source": [
    "def preorderTraversal(root):\n",
    "    res, stack = [], [root]\n",
    "    while stack:\n",
    "        node = stack.pop()\n",
    "        if node:\n",
    "            res.insert(0, [node.val,node.weight])\n",
    "            stack.append(node.left)\n",
    "            stack.append(node.right)\n",
    "    return res"
   ]
  },
  {
   "cell_type": "code",
   "execution_count": 59,
   "id": "5ef7c419",
   "metadata": {},
   "outputs": [],
   "source": [
    "def dfs(root):\n",
    "    res, stack = {}, [root]\n",
    "    while stack:\n",
    "        for i in range(len(stack)):\n",
    "            node = stack.pop(0)\n",
    "            if node:\n",
    "                stack.append(node.left)\n",
    "                stack.append(node.right)\n",
    "                res[str([node.val, node.weight, node.minWeight, node.maxWeight, node.count])] = []\n",
    "                if node.left:\n",
    "                    res[str([node.val, node.weight, node.minWeight, node.maxWeight, node.count])].append(str([node.left.val, node.left.weight, node.left.minWeight, node.left.maxWeight, node.left.count]))\n",
    "                if node.right:\n",
    "                    res[str([node.val, node.weight, node.minWeight, node.maxWeight, node.count])].append(str([node.right.val, node.right.weight, node.right.minWeight, node.right.maxWeight, node.right.count]))\n",
    "                print(\"root: \", [node.val, node.weight] if node else \"None\", \"left: \", [node.left.val, node.left.weight] if node.left else \"None\", \"right: \", [node.right.val, node.right.weight] if node.right else \"None\", \"axis: \", \"None\" if node.axis == \"None\" else node.axis)\n",
    "                print(\"weight: \", [node.minWeight, node.maxWeight, node.count] if node else \"None\")\n",
    "        print(res)\n",
    "    return res"
   ]
  },
  {
   "cell_type": "code",
   "execution_count": 60,
   "id": "e36191c8",
   "metadata": {},
   "outputs": [],
   "source": [
    "def buildKdTree(points, hyperplaneAxis = 0, weights = None):\n",
    "    if weights == None:\n",
    "        points = [[point] for point in points]\n",
    "    else:\n",
    "        if len(points) != len(weights):\n",
    "            print(\"Incompatible len of points and weights\")\n",
    "            return\n",
    "        points = [[point, weight] for point, weight in zip(points, weights)]\n",
    "    return buildTreeWithMedian(points, hyperplaneAxis)"
   ]
  },
  {
   "cell_type": "code",
   "execution_count": 61,
   "id": "6d28fa9c",
   "metadata": {},
   "outputs": [],
   "source": [
    "def buildTreeWithMedian(points, hyperplaneAxis = 0):\n",
    "    \n",
    "    dim = len(points[0][0])\n",
    "    nxtHyperplaneAxis = (hyperplaneAxis + 1) % dim\n",
    "    \n",
    "    if len(points) == 1:\n",
    "#         print(\"when points are 1: \", points[0][0], points[0][1])\n",
    "        return Node(points[0][0], points[0][1], nxtHyperplaneAxis, points[0][1], points[0][1], 1)\n",
    "    \n",
    "    medianIndex = len(points) // 2\n",
    "    sortedPoints = sorted(points, key=lambda x: x[0][hyperplaneAxis])\n",
    "\n",
    "    median = sortedPoints[medianIndex]\n",
    "    leftPoints = sortedPoints[:medianIndex]\n",
    "    rightPoints = sortedPoints[medianIndex + 1:]\n",
    "\n",
    "    sortedWeights = sorted(points, key=lambda x: x[1])\n",
    "#     print(sortedWeights[0][1])\n",
    "#     print(\"sorted based on: \", dim , sortedPoints)\n",
    "#     print(\"median: \", median)\n",
    "#     print(\"leftPoints: \", leftPoints)\n",
    "#     print(\"rightPoints: \", rightPoints)\n",
    "#     print(\"hyperplane axis: \", hyperplaneAxis)\n",
    "    \n",
    "    currNode = Node(median[0], median[1], hyperplaneAxis, sortedWeights[0][1], sortedWeights[-1][1], len(sortedWeights))\n",
    "    currNode.left = buildTreeWithMedian(leftPoints, nxtHyperplaneAxis) if len(leftPoints) > 0 else []\n",
    "    currNode.right = buildTreeWithMedian(rightPoints, nxtHyperplaneAxis) if len(rightPoints) > 0 else []\n",
    "#     print(\"root: \", [currNode.val, currNode.weight] if currNode else \"None\", \"left: \", [currNode.left.val, currNode.left.weight] if currNode.left else \"None\", \"right: \", [currNode.right.val, currNode.right.weight] if currNode.right else \"None\", \"axis: \", \"None\" if currNode.axis == \"None\" else currNode.axis)    \n",
    "    return currNode"
   ]
  },
  {
   "cell_type": "code",
   "execution_count": 62,
   "id": "e5c107f6",
   "metadata": {},
   "outputs": [],
   "source": [
    "points = np.array([(86, 338), (164, 360), (75, 58), (5,358), (400, 346), (281, 411), (136, 39), (324, 54),(296,332)])"
   ]
  },
  {
   "cell_type": "code",
   "execution_count": 63,
   "id": "c1c128cb",
   "metadata": {},
   "outputs": [],
   "source": [
    "# points = np.array([(86, 338, 13), (164, 360, 34), (75, 58, 190), (5,358, 120),(400, 346, 290), (281, 411, 342), (136, 39, 456),(324, 54, 100),(296,332, 230)])"
   ]
  },
  {
   "cell_type": "code",
   "execution_count": 64,
   "id": "91a5d95d",
   "metadata": {},
   "outputs": [],
   "source": [
    "weights = [10, 5, 20, 15, 30, 18, 4, 23, 29]"
   ]
  },
  {
   "cell_type": "code",
   "execution_count": 65,
   "id": "ce9b4dfd",
   "metadata": {},
   "outputs": [],
   "source": [
    "root = buildKdTree(points,0,weights)"
   ]
  },
  {
   "cell_type": "code",
   "execution_count": 66,
   "id": "8dd5114e",
   "metadata": {},
   "outputs": [],
   "source": [
    "preorder = preorderTraversal(root)"
   ]
  },
  {
   "cell_type": "code",
   "execution_count": 67,
   "id": "60827372",
   "metadata": {},
   "outputs": [
    {
     "name": "stdout",
     "output_type": "stream",
     "text": [
      "root:  [array([164, 360]), 5] left:  [array([ 86, 338]), 10] right:  [array([400, 346]), 30] axis:  0\n",
      "weight:  [4, 30, 9]\n",
      "{'[array([164, 360]), 5, 4, 30, 9]': ['[array([ 86, 338]), 10, 4, 20, 4]', '[array([400, 346]), 30, 18, 30, 4]']}\n",
      "root:  [array([ 86, 338]), 10] left:  [array([136,  39]), 4] right:  [array([  5, 358]), 15] axis:  1\n",
      "weight:  [4, 20, 4]\n",
      "root:  [array([400, 346]), 30] left:  [array([324,  54]), 23] right:  [array([281, 411]), 18] axis:  1\n",
      "weight:  [18, 30, 4]\n",
      "{'[array([164, 360]), 5, 4, 30, 9]': ['[array([ 86, 338]), 10, 4, 20, 4]', '[array([400, 346]), 30, 18, 30, 4]'], '[array([ 86, 338]), 10, 4, 20, 4]': ['[array([136,  39]), 4, 4, 20, 2]', '[array([  5, 358]), 15, 15, 15, 1]'], '[array([400, 346]), 30, 18, 30, 4]': ['[array([324,  54]), 23, 23, 29, 2]', '[array([281, 411]), 18, 18, 18, 1]']}\n",
      "root:  [array([136,  39]), 4] left:  [array([75, 58]), 20] right:  None axis:  0\n",
      "weight:  [4, 20, 2]\n",
      "root:  [array([  5, 358]), 15] left:  None right:  None axis:  1\n",
      "weight:  [15, 15, 1]\n",
      "root:  [array([324,  54]), 23] left:  [array([296, 332]), 29] right:  None axis:  0\n",
      "weight:  [23, 29, 2]\n",
      "root:  [array([281, 411]), 18] left:  None right:  None axis:  1\n",
      "weight:  [18, 18, 1]\n",
      "{'[array([164, 360]), 5, 4, 30, 9]': ['[array([ 86, 338]), 10, 4, 20, 4]', '[array([400, 346]), 30, 18, 30, 4]'], '[array([ 86, 338]), 10, 4, 20, 4]': ['[array([136,  39]), 4, 4, 20, 2]', '[array([  5, 358]), 15, 15, 15, 1]'], '[array([400, 346]), 30, 18, 30, 4]': ['[array([324,  54]), 23, 23, 29, 2]', '[array([281, 411]), 18, 18, 18, 1]'], '[array([136,  39]), 4, 4, 20, 2]': ['[array([75, 58]), 20, 20, 20, 1]'], '[array([  5, 358]), 15, 15, 15, 1]': [], '[array([324,  54]), 23, 23, 29, 2]': ['[array([296, 332]), 29, 29, 29, 1]'], '[array([281, 411]), 18, 18, 18, 1]': []}\n",
      "root:  [array([75, 58]), 20] left:  None right:  None axis:  0\n",
      "weight:  [20, 20, 1]\n",
      "root:  [array([296, 332]), 29] left:  None right:  None axis:  0\n",
      "weight:  [29, 29, 1]\n",
      "{'[array([164, 360]), 5, 4, 30, 9]': ['[array([ 86, 338]), 10, 4, 20, 4]', '[array([400, 346]), 30, 18, 30, 4]'], '[array([ 86, 338]), 10, 4, 20, 4]': ['[array([136,  39]), 4, 4, 20, 2]', '[array([  5, 358]), 15, 15, 15, 1]'], '[array([400, 346]), 30, 18, 30, 4]': ['[array([324,  54]), 23, 23, 29, 2]', '[array([281, 411]), 18, 18, 18, 1]'], '[array([136,  39]), 4, 4, 20, 2]': ['[array([75, 58]), 20, 20, 20, 1]'], '[array([  5, 358]), 15, 15, 15, 1]': [], '[array([324,  54]), 23, 23, 29, 2]': ['[array([296, 332]), 29, 29, 29, 1]'], '[array([281, 411]), 18, 18, 18, 1]': [], '[array([75, 58]), 20, 20, 20, 1]': [], '[array([296, 332]), 29, 29, 29, 1]': []}\n",
      "{'[array([164, 360]), 5, 4, 30, 9]': ['[array([ 86, 338]), 10, 4, 20, 4]', '[array([400, 346]), 30, 18, 30, 4]'], '[array([ 86, 338]), 10, 4, 20, 4]': ['[array([136,  39]), 4, 4, 20, 2]', '[array([  5, 358]), 15, 15, 15, 1]'], '[array([400, 346]), 30, 18, 30, 4]': ['[array([324,  54]), 23, 23, 29, 2]', '[array([281, 411]), 18, 18, 18, 1]'], '[array([136,  39]), 4, 4, 20, 2]': ['[array([75, 58]), 20, 20, 20, 1]'], '[array([  5, 358]), 15, 15, 15, 1]': [], '[array([324,  54]), 23, 23, 29, 2]': ['[array([296, 332]), 29, 29, 29, 1]'], '[array([281, 411]), 18, 18, 18, 1]': [], '[array([75, 58]), 20, 20, 20, 1]': [], '[array([296, 332]), 29, 29, 29, 1]': []}\n"
     ]
    }
   ],
   "source": [
    "adjacencyList = dfs(root)"
   ]
  },
  {
   "cell_type": "code",
   "execution_count": 68,
   "id": "57b2aad7",
   "metadata": {},
   "outputs": [
    {
     "data": {
      "text/plain": [
       "{'[array([164, 360]), 5, 4, 30, 9]': ['[array([ 86, 338]), 10, 4, 20, 4]',\n",
       "  '[array([400, 346]), 30, 18, 30, 4]'],\n",
       " '[array([ 86, 338]), 10, 4, 20, 4]': ['[array([136,  39]), 4, 4, 20, 2]',\n",
       "  '[array([  5, 358]), 15, 15, 15, 1]'],\n",
       " '[array([400, 346]), 30, 18, 30, 4]': ['[array([324,  54]), 23, 23, 29, 2]',\n",
       "  '[array([281, 411]), 18, 18, 18, 1]'],\n",
       " '[array([136,  39]), 4, 4, 20, 2]': ['[array([75, 58]), 20, 20, 20, 1]'],\n",
       " '[array([  5, 358]), 15, 15, 15, 1]': [],\n",
       " '[array([324,  54]), 23, 23, 29, 2]': ['[array([296, 332]), 29, 29, 29, 1]'],\n",
       " '[array([281, 411]), 18, 18, 18, 1]': [],\n",
       " '[array([75, 58]), 20, 20, 20, 1]': [],\n",
       " '[array([296, 332]), 29, 29, 29, 1]': []}"
      ]
     },
     "execution_count": 68,
     "metadata": {},
     "output_type": "execute_result"
    }
   ],
   "source": [
    "adjacencyList"
   ]
  },
  {
   "cell_type": "code",
   "execution_count": 69,
   "id": "a32d9148",
   "metadata": {},
   "outputs": [
    {
     "data": {
      "text/plain": [
       "'tree.pdf'"
      ]
     },
     "execution_count": 69,
     "metadata": {},
     "output_type": "execute_result"
    }
   ],
   "source": [
    "def visualizeGraph(treeList):\n",
    "    # Create a Graphviz Digraph\n",
    "    dot = Digraph(comment='Tree')\n",
    "\n",
    "    # Add nodes and edges to the Digraph\n",
    "    for node in treeList:\n",
    "        dot.node(node)\n",
    "\n",
    "    for node, edges in treeList.items():\n",
    "        for edge in edges:\n",
    "            dot.edge(node, edge)\n",
    "\n",
    "    # Visualize the Digraph\n",
    "    dot.render('tree', view=True)"
   ]
  },
  {
   "cell_type": "code",
   "execution_count": null,
   "id": "6e24a2eb",
   "metadata": {},
   "outputs": [],
   "source": [
    "visualizeGraph(adjacencyList)"
   ]
  },
  {
   "cell_type": "code",
   "execution_count": 15,
   "id": "d0e5d9d6",
   "metadata": {},
   "outputs": [],
   "source": [
    "def checkRight(node : Node, bottom_left : list, top_right : list) -> bool:\n",
    "    if (node.val[0] > bottom_left[0]) and (node.val[0] < top_right[0]) and (node.val[1] > bottom_left[1]) and (node.val[1] < top_right[1]):\n",
    "        return True\n",
    "    else:\n",
    "        return False"
   ]
  },
  {
   "cell_type": "code",
   "execution_count": 16,
   "id": "13065655",
   "metadata": {},
   "outputs": [],
   "source": [
    "def checkLeft(node : Node, top_left : list, bottom_right : list) -> bool:\n",
    "    if (node.val[0] > bottom_right[0]) and (node.val[0] < top_left[0]) and (node.val[1] > top_left[1]) and (node.val[1] < bottom_right[1]):\n",
    "        return True\n",
    "    else:\n",
    "        return False"
   ]
  },
  {
   "cell_type": "code",
   "execution_count": 17,
   "id": "0940903f",
   "metadata": {},
   "outputs": [],
   "source": [
    "def isLeaf(node : Node) -> bool:\n",
    "    if node==None:\n",
    "        return False\n",
    "    if node.left==None and node.right==None:\n",
    "        return True\n",
    "    return False"
   ]
  },
  {
   "cell_type": "code",
   "execution_count": 18,
   "id": "674f1448",
   "metadata": {},
   "outputs": [],
   "source": [
    "def ToNode(node : list) -> Node:\n",
    "    N = Node(node)\n",
    "    return N"
   ]
  },
  {
   "cell_type": "code",
   "execution_count": 19,
   "id": "f017672d",
   "metadata": {},
   "outputs": [],
   "source": [
    "def CountQueryPoints(node : Node, p1 : list, p2 : list) ->int:\n",
    "    \n",
    "    NoOfPoints = 0\n",
    "    if p1[0]==p2[0]:\n",
    "        print('Collinear points')\n",
    "        return\n",
    "    else:\n",
    "        slope = (p2[1] - p1[1])/(p2[0] - p1[0])\n",
    "        \n",
    "        if slope == 0:\n",
    "            print('Collinear points')\n",
    "            return\n",
    "        \n",
    "        else:\n",
    "            #RIGHT DIAGONAL\n",
    "            if isLeaf(node) and slope > 0:\n",
    "                if checkRight(node, p1, p2):\n",
    "                    NoOfPoints += 1\n",
    "                    \n",
    "            #LEFT DIAGONAL\n",
    "            elif isLeaf(node) and slope < 0:\n",
    "                if checkLeft(node, p1, p2):\n",
    "                    NoOfPoints += 1\n",
    "                    \n",
    "            else:\n",
    "                #RIGHT DIAGONAL\n",
    "                if slope > 0:\n",
    "                    NoOfPoints += int(checkRight(node,p1,p2)==True)\n",
    "                    \n",
    "                #LEFT DIAGONAL    \n",
    "                if slope < 0:\n",
    "                    NoOfPoints += int(checkLeft(node,p1,p2)==True)\n",
    "                    \n",
    "                if type(node.left) == list: \n",
    "                    Nl = ToNode(node.left)\n",
    "                else: \n",
    "                    Nl = node.left\n",
    "                if type(node.right) == list: \n",
    "                    Nr = ToNode(node.right)\n",
    "                else: \n",
    "                    Nr = node.right\n",
    "                NoOfPoints += CountQueryPoints(Nl, p1, p2)\n",
    "                NoOfPoints += CountQueryPoints(Nr, p1, p2)\n",
    "            \n",
    "    return NoOfPoints"
   ]
  },
  {
   "cell_type": "code",
   "execution_count": 20,
   "id": "1352cfcb",
   "metadata": {},
   "outputs": [],
   "source": [
    "def Max(root):\n",
    "    Max, stack = [], []\n",
    "    cur = root\n",
    "    while cur or stack:\n",
    "        while cur:\n",
    "            stack.append(cur)\n",
    "            Max.append(cur.weight)\n",
    "            cur = cur.left\n",
    "        cur = stack.pop()\n",
    "        cur = cur.right\n",
    "        node = stack.pop()\n",
    "    return max(Max)"
   ]
  },
  {
   "cell_type": "code",
   "execution_count": 21,
   "id": "69ca8a57",
   "metadata": {},
   "outputs": [],
   "source": [
    "def Min(root):\n",
    "    Max, stack = [], []\n",
    "    cur = root\n",
    "    while cur or stack:\n",
    "        while cur:\n",
    "            stack.append(cur)\n",
    "            Max.append(cur.weight)\n",
    "            cur = cur.left\n",
    "        cur = stack.pop()\n",
    "        cur = cur.right\n",
    "        node = stack.pop()\n",
    "    return min(Max)"
   ]
  },
  {
   "cell_type": "code",
   "execution_count": 22,
   "id": "6164356c",
   "metadata": {},
   "outputs": [
    {
     "ename": "TypeError",
     "evalue": "buildKdTree() takes from 1 to 3 positional arguments but 4 were given",
     "output_type": "error",
     "traceback": [
      "\u001b[1;31m---------------------------------------------------------------------------\u001b[0m",
      "\u001b[1;31mTypeError\u001b[0m                                 Traceback (most recent call last)",
      "\u001b[1;32m<ipython-input-22-3c9fcca781c1>\u001b[0m in \u001b[0;36m<module>\u001b[1;34m\u001b[0m\n\u001b[0;32m      1\u001b[0m \u001b[0mpoints\u001b[0m \u001b[1;33m=\u001b[0m \u001b[1;33m[\u001b[0m\u001b[1;33m[\u001b[0m\u001b[1;36m3\u001b[0m\u001b[1;33m,\u001b[0m\u001b[1;36m2\u001b[0m\u001b[1;33m]\u001b[0m\u001b[1;33m,\u001b[0m \u001b[1;33m[\u001b[0m\u001b[1;36m8\u001b[0m\u001b[1;33m,\u001b[0m\u001b[1;36m4\u001b[0m\u001b[1;33m]\u001b[0m\u001b[1;33m,\u001b[0m \u001b[1;33m[\u001b[0m\u001b[1;36m6\u001b[0m\u001b[1;33m,\u001b[0m\u001b[1;36m5\u001b[0m\u001b[1;33m]\u001b[0m\u001b[1;33m]\u001b[0m\u001b[1;33m\u001b[0m\u001b[1;33m\u001b[0m\u001b[0m\n\u001b[0;32m      2\u001b[0m \u001b[0mweights\u001b[0m \u001b[1;33m=\u001b[0m \u001b[1;33m[\u001b[0m\u001b[1;36m1\u001b[0m\u001b[1;33m,\u001b[0m\u001b[1;36m2\u001b[0m\u001b[1;33m,\u001b[0m\u001b[1;36m1\u001b[0m\u001b[1;33m]\u001b[0m\u001b[1;33m\u001b[0m\u001b[1;33m\u001b[0m\u001b[0m\n\u001b[1;32m----> 3\u001b[1;33m \u001b[0mroot\u001b[0m \u001b[1;33m=\u001b[0m \u001b[0mbuildKdTree\u001b[0m\u001b[1;33m(\u001b[0m\u001b[0mpoints\u001b[0m\u001b[1;33m,\u001b[0m\u001b[1;36m2\u001b[0m\u001b[1;33m,\u001b[0m\u001b[0mweights\u001b[0m\u001b[1;33m,\u001b[0m\u001b[1;36m0\u001b[0m\u001b[1;33m)\u001b[0m\u001b[1;33m\u001b[0m\u001b[1;33m\u001b[0m\u001b[0m\n\u001b[0m\u001b[0;32m      4\u001b[0m \u001b[0mprint\u001b[0m\u001b[1;33m(\u001b[0m\u001b[0mMax\u001b[0m\u001b[1;33m(\u001b[0m\u001b[0mroot\u001b[0m\u001b[1;33m)\u001b[0m\u001b[1;33m)\u001b[0m\u001b[1;33m\u001b[0m\u001b[1;33m\u001b[0m\u001b[0m\n\u001b[0;32m      5\u001b[0m \u001b[0mprint\u001b[0m\u001b[1;33m(\u001b[0m\u001b[0mMin\u001b[0m\u001b[1;33m(\u001b[0m\u001b[0mroot\u001b[0m\u001b[1;33m)\u001b[0m\u001b[1;33m)\u001b[0m\u001b[1;33m\u001b[0m\u001b[1;33m\u001b[0m\u001b[0m\n",
      "\u001b[1;31mTypeError\u001b[0m: buildKdTree() takes from 1 to 3 positional arguments but 4 were given"
     ]
    }
   ],
   "source": [
    "points = [[3,2], [8,4], [6,5]]\n",
    "weights = [1,2,1]\n",
    "root = buildKdTree(points,2,weights,0)\n",
    "print(Max(root))\n",
    "print(Min(root))"
   ]
  },
  {
   "cell_type": "code",
   "execution_count": null,
   "id": "fd2bf176",
   "metadata": {},
   "outputs": [],
   "source": [
    "points = np.array([(0,1),(3,3),(4,6),(5,5),(10,10),(12,13),(13,14)])"
   ]
  },
  {
   "cell_type": "code",
   "execution_count": null,
   "id": "28f95b02",
   "metadata": {},
   "outputs": [],
   "source": [
    "dfs(root)"
   ]
  },
  {
   "cell_type": "code",
   "execution_count": null,
   "id": "aaf1e5c6",
   "metadata": {},
   "outputs": [],
   "source": [
    "#Case: Right Diagonal\n",
    "print(CountQueryPoints(root,[-1,-1],[15,15]))"
   ]
  },
  {
   "cell_type": "code",
   "execution_count": null,
   "id": "f6f3a56a",
   "metadata": {},
   "outputs": [],
   "source": [
    "#Case: Left Diagonal\n",
    "print(CountQueryPoints(root,[-15,15],[-1,1]))"
   ]
  },
  {
   "cell_type": "code",
   "execution_count": null,
   "id": "9fd3ff9e",
   "metadata": {},
   "outputs": [],
   "source": [
    "#Case: Collinear\n",
    "print(CountQueryPoints(root,[-1,-1],[15,-1]))"
   ]
  },
  {
   "cell_type": "code",
   "execution_count": null,
   "id": "a166d51e",
   "metadata": {},
   "outputs": [],
   "source": [
    "#Case: Collinear\n",
    "print(CountQueryPoints(root,[-1,-1],[-1,15]))"
   ]
  },
  {
   "cell_type": "code",
   "execution_count": null,
   "id": "fef8f282",
   "metadata": {},
   "outputs": [],
   "source": [
    "def NNKDTree(queryPoint, root, threshold, noOfPoints):\n",
    "    listOfNeighbors = []\n",
    "    return NNKDTreeRec(queryPoint, root, threshold, noOfPoints, listOfNeighbors)"
   ]
  },
  {
   "cell_type": "code",
   "execution_count": null,
   "id": "a0f53c10",
   "metadata": {},
   "outputs": [],
   "source": [
    "def squareDistance(p1, p2):\n",
    "    retValue = abs((p1[0] - p2[0]) ^ 2 - (p1[1] - p2[1]) ^ 2)\n",
    "    print(\"p1: \", p1, \"p2: \", p2, \"print val: \", retValue)\n",
    "    return retValue"
   ]
  },
  {
   "cell_type": "code",
   "execution_count": null,
   "id": "54c71898",
   "metadata": {},
   "outputs": [],
   "source": [
    "def NNKDTreeRec(queryPoint, root, threshold, noOfPoints, listOfNeighbors):\n",
    "    if not root:\n",
    "        return listOfNeighbors\n",
    "    else:\n",
    "        if squareDistance(root.val, queryPoint) < threshold and len(listOfNeighbors) < noOfPoints:\n",
    "            listOfNeighbors.append(root.val)\n",
    "        if root.left == None and root.right == None:\n",
    "            return listOfNeighbors\n",
    "        else:\n",
    "            T1, T2 = None, None\n",
    "            query = queryPoint[0] if root.axis == 0 else queryPoint[1]\n",
    "            currRoot = root.val[0] if root.axis == 0 else root.val[1]\n",
    "                \n",
    "            if query < root.val[0] if root.axis == 0 else root.val[1]:\n",
    "                T1 = root.left\n",
    "                T2 = root.right\n",
    "            else:\n",
    "                T1 = root.right\n",
    "                T2 = root.left\n",
    "            leftList = NNKDTreeRec(queryPoint, T1, threshold, noOfPoints, listOfNeighbors)\n",
    "            if len(leftList) < noOfPoints and squareDistance(root.val, queryPoint) < threshold:\n",
    "                rightList = NNKDTreeRec(queryPoint, root.right, threshold, noOfPoints, listOfNeighbors)\n",
    "            else:\n",
    "                rightList = NNKDTreeRec(queryPoint, root.right, threshold, noOfPoints, listOfNeighbors)\n",
    "    return listOfNeighbors"
   ]
  },
  {
   "cell_type": "code",
   "execution_count": null,
   "id": "3f97e802",
   "metadata": {},
   "outputs": [],
   "source": [
    "points, root.val"
   ]
  },
  {
   "cell_type": "code",
   "execution_count": null,
   "id": "0a5274bd",
   "metadata": {},
   "outputs": [],
   "source": [
    "NNKDTree([6,4], root, 5, 8)"
   ]
  },
  {
   "cell_type": "code",
   "execution_count": null,
   "id": "eb6ce64a",
   "metadata": {},
   "outputs": [],
   "source": []
  }
 ],
 "metadata": {
  "kernelspec": {
   "display_name": "Python 3",
   "language": "python",
   "name": "python3"
  },
  "language_info": {
   "codemirror_mode": {
    "name": "ipython",
    "version": 3
   },
   "file_extension": ".py",
   "mimetype": "text/x-python",
   "name": "python",
   "nbconvert_exporter": "python",
   "pygments_lexer": "ipython3",
   "version": "3.8.8"
  },
  "toc": {
   "base_numbering": 1,
   "nav_menu": {},
   "number_sections": true,
   "sideBar": true,
   "skip_h1_title": false,
   "title_cell": "Table of Contents",
   "title_sidebar": "Contents",
   "toc_cell": true,
   "toc_position": {},
   "toc_section_display": true,
   "toc_window_display": false
  }
 },
 "nbformat": 4,
 "nbformat_minor": 5
}
