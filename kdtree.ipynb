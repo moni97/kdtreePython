{
 "cells": [
  {
   "cell_type": "markdown",
   "id": "876fab78",
   "metadata": {
    "toc": true
   },
   "source": [
    "<h1>Table of Contents<span class=\"tocSkip\"></span></h1>\n",
    "<div class=\"toc\"><ul class=\"toc-item\"></ul></div>"
   ]
  },
  {
   "cell_type": "code",
   "execution_count": 1,
   "id": "25ad53f7",
   "metadata": {},
   "outputs": [],
   "source": [
    "import statistics\n",
    "import numpy as np"
   ]
  },
  {
   "cell_type": "code",
   "execution_count": 2,
   "id": "d000bed0",
   "metadata": {},
   "outputs": [],
   "source": [
    "class Node:\n",
    "    def __init__(self, val, dim = -1):\n",
    "        self.right = self.left = None\n",
    "        self.val = val\n",
    "        self.dim = dim\n",
    "\n",
    "class KDTree:\n",
    "    def __init__(self, axis, points):\n",
    "        self.axis = axis\n",
    "        self.points = points\n",
    "        \n",
    "    def buildKdTree(points, dim = 0, debug=False):\n",
    "        nextDim = (dim + 1) % 2\n",
    "\n",
    "        if len(points) == 1:\n",
    "            return Node(points[0], nextDim)\n",
    "\n",
    "        # Get points sorted based on the axis\n",
    "        if dim % 2 == 0:\n",
    "            # Sorting points on x-axis\n",
    "            sortedPoints = points[np.lexsort((points[:,1],points[:,0]))]\n",
    "        else:\n",
    "            # Sorting points on y-axis\n",
    "            sortedPoints = points[np.lexsort((points[:,0],points[:,1]))]\n",
    "\n",
    "        medianIndex = len(points) // 2\n",
    "        median = sortedPoints[medianIndex]\n",
    "        leftPoints = sortedPoints[:medianIndex]\n",
    "        rightPoints = sortedPoints[medianIndex+1:]\n",
    "\n",
    "        if (debug): \n",
    "            print(\"sorted based on: \", dim , sortedPoints)\n",
    "            print(\"median: \", median)\n",
    "            print(\"leftPoints: \", leftPoints)\n",
    "            print(\"rightPoints: \", rightPoints)\n",
    "\n",
    "        root = Node(median, dim)\n",
    "        root.left = buildKdTree(leftPoints, nextDim) if len(leftPoints > 0) else []\n",
    "        root.right = buildKdTree(rightPoints, nextDim) if len(rightPoints > 0) else []\n",
    "\n",
    "        return root"
   ]
  },
  {
   "cell_type": "code",
   "execution_count": 3,
   "id": "6d28fa9c",
   "metadata": {},
   "outputs": [],
   "source": [
    "def buildKdTree(points, dim = 0, debug=False):\n",
    "    nextDim = (dim + 1) % 2\n",
    "    \n",
    "    if len(points) == 1:\n",
    "        return Node(points[0], nextDim)\n",
    "\n",
    "    # Get points sorted based on the axis\n",
    "    if dim % 2 == 0:\n",
    "        # Sorting points on x-axis\n",
    "        sortedPoints = points[np.lexsort((points[:,1],points[:,0]))]\n",
    "    else:\n",
    "        # Sorting points on y-axis\n",
    "        sortedPoints = points[np.lexsort((points[:,0],points[:,1]))]\n",
    "    \n",
    "    medianIndex = len(points) // 2\n",
    "    median = sortedPoints[medianIndex]\n",
    "    leftPoints = sortedPoints[:medianIndex]\n",
    "    rightPoints = sortedPoints[medianIndex+1:]\n",
    "    \n",
    "    if (debug): \n",
    "        print(\"sorted based on: \", dim , sortedPoints)\n",
    "        print(\"median: \", median)\n",
    "        print(\"leftPoints: \", leftPoints)\n",
    "        print(\"rightPoints: \", rightPoints)\n",
    "    \n",
    "    root = Node(median, dim)\n",
    "    root.left = buildKdTree(leftPoints, nextDim) if len(leftPoints > 0) else []\n",
    "    root.right = buildKdTree(rightPoints, nextDim) if len(rightPoints > 0) else []\n",
    "    \n",
    "    return root"
   ]
  },
  {
   "cell_type": "code",
   "execution_count": 4,
   "id": "465b50ac",
   "metadata": {},
   "outputs": [],
   "source": [
    "def preorderTraversal(root):\n",
    "    res, stack = [], [root]\n",
    "    while stack:\n",
    "        node = stack.pop()\n",
    "        if node:\n",
    "            res.insert(0, node.val)\n",
    "            stack.append(node.left)\n",
    "            stack.append(node.right)\n",
    "    print(\"res: \", res)\n",
    "    return res"
   ]
  },
  {
   "cell_type": "code",
   "execution_count": 5,
   "id": "5ef7c419",
   "metadata": {},
   "outputs": [],
   "source": [
    "def dfs(root):\n",
    "    res, stack = [], [root]\n",
    "    while stack:\n",
    "        for i in range(len(stack)):\n",
    "            node = stack.pop(0)\n",
    "            if node:\n",
    "                stack.append(node.left)\n",
    "                stack.append(node.right)\n",
    "                print(\"root: \",node.val, node.dim if node else \"None\", \"left: \", node.left.val if node.left else \"None\", \"right: \", node.right.val if node.right else \"None\")    "
   ]
  },
  {
   "cell_type": "code",
   "execution_count": 6,
   "id": "e5c107f6",
   "metadata": {},
   "outputs": [],
   "source": [
    "points = np.array([(86, 338), (164, 360), (75, 58), (5,358),(400, 346), (281, 411), (136, 39),(324, 54),(296,332)])"
   ]
  },
  {
   "cell_type": "code",
   "execution_count": 7,
   "id": "ce9b4dfd",
   "metadata": {},
   "outputs": [],
   "source": [
    "root = buildKdTree(points, 0)"
   ]
  },
  {
   "cell_type": "code",
   "execution_count": 8,
   "id": "8dd5114e",
   "metadata": {},
   "outputs": [
    {
     "name": "stdout",
     "output_type": "stream",
     "text": [
      "res:  [array([75, 58]), array([136,  39]), array([  5, 358]), array([ 86, 338]), array([296, 332]), array([324,  54]), array([281, 411]), array([400, 346]), array([164, 360])]\n"
     ]
    }
   ],
   "source": [
    "preorder = preorderTraversal(root)"
   ]
  },
  {
   "cell_type": "code",
   "execution_count": 9,
   "id": "60827372",
   "metadata": {},
   "outputs": [
    {
     "name": "stdout",
     "output_type": "stream",
     "text": [
      "root:  [164 360] 0 left:  [ 86 338] right:  [400 346]\n",
      "root:  [ 86 338] 1 left:  [136  39] right:  [  5 358]\n",
      "root:  [400 346] 1 left:  [324  54] right:  [281 411]\n",
      "root:  [136  39] 0 left:  [75 58] right:  None\n",
      "root:  [  5 358] 1 left:  None right:  None\n",
      "root:  [324  54] 0 left:  [296 332] right:  None\n",
      "root:  [281 411] 1 left:  None right:  None\n",
      "root:  [75 58] 0 left:  None right:  None\n",
      "root:  [296 332] 0 left:  None right:  None\n"
     ]
    }
   ],
   "source": [
    "dfs(root)"
   ]
  },
  {
   "cell_type": "code",
   "execution_count": 10,
   "id": "6d4db128",
   "metadata": {},
   "outputs": [
    {
     "data": {
      "text/plain": [
       "(array([[  5, 358],\n",
       "        [ 75,  58],\n",
       "        [ 86, 338],\n",
       "        [136,  39],\n",
       "        [164, 360],\n",
       "        [281, 411],\n",
       "        [296, 332],\n",
       "        [324,  54],\n",
       "        [400, 346]]),\n",
       " array([[ 75,  58],\n",
       "        [ 86, 338],\n",
       "        [136,  39],\n",
       "        [164, 360],\n",
       "        [281, 411],\n",
       "        [296, 332],\n",
       "        [324,  54],\n",
       "        [400, 346]]),\n",
       " array([[136,  39],\n",
       "        [324,  54],\n",
       "        [ 75,  58],\n",
       "        [296, 332],\n",
       "        [ 86, 338],\n",
       "        [400, 346],\n",
       "        [  5, 358],\n",
       "        [164, 360],\n",
       "        [281, 411]]))"
      ]
     },
     "execution_count": 10,
     "metadata": {},
     "output_type": "execute_result"
    }
   ],
   "source": [
    "dim1Sorted = np.lexsort((points[:,1],points[:,0])) \n",
    "dim2Sorted = np.lexsort((points[:,0],points[:,1]))\n",
    "points[dim1Sorted], points[dim1Sorted][1:], points[dim2Sorted]"
   ]
  },
  {
   "cell_type": "code",
   "execution_count": 11,
   "id": "d0e5d9d6",
   "metadata": {},
   "outputs": [],
   "source": [
    "def checkRight(node : Node, bottom_left : list, top_right : list) -> bool:\n",
    "    if (node.val[0] > bottom_left[0]) and (node.val[0] < top_right[0]) and (node.val[1] > bottom_left[1]) and (node.val[1] < top_right[1]):\n",
    "        return True\n",
    "    else:\n",
    "        return False"
   ]
  },
  {
   "cell_type": "code",
   "execution_count": 12,
   "id": "13065655",
   "metadata": {},
   "outputs": [],
   "source": [
    "def checkLeft(node : Node, top_left : list, bottom_right : list) -> bool:\n",
    "    if (node.val[0] > bottom_right[0]) and (node.val[0] < top_left[0]) and (node.val[1] > top_left[1]) and (node.val[1] < bottom_right[1]):\n",
    "        return True\n",
    "    else:\n",
    "        return False"
   ]
  },
  {
   "cell_type": "code",
   "execution_count": 13,
   "id": "0940903f",
   "metadata": {},
   "outputs": [],
   "source": [
    "def isLeaf(node : Node) -> bool:\n",
    "    if node==None:\n",
    "        return False\n",
    "    if node.left==None and node.right==None:\n",
    "        return True\n",
    "    return False"
   ]
  },
  {
   "cell_type": "code",
   "execution_count": 14,
   "id": "674f1448",
   "metadata": {},
   "outputs": [],
   "source": [
    "def ToNode(node : list) -> Node:\n",
    "    N = Node(node)\n",
    "    return N"
   ]
  },
  {
   "cell_type": "code",
   "execution_count": 15,
   "id": "f017672d",
   "metadata": {},
   "outputs": [],
   "source": [
    "def CountQueryPoints(node : Node, p1 : list, p2 : list) ->int:\n",
    "    \n",
    "    NoOfPoints = 0\n",
    "    if p1[0]==p2[0]:\n",
    "        print('Collinear points')\n",
    "        return\n",
    "    else:\n",
    "        slope = (p2[1] - p1[1])/(p2[0] - p1[0])\n",
    "        \n",
    "        if slope == 0:\n",
    "            print('Collinear points')\n",
    "            return\n",
    "        \n",
    "        else:\n",
    "            #RIGHT DIAGONAL\n",
    "            if isLeaf(node) and slope > 0:\n",
    "                if checkRight(node, p1, p2):\n",
    "                    NoOfPoints += 1\n",
    "                    \n",
    "            #LEFT DIAGONAL\n",
    "            elif isLeaf(node) and slope < 0:\n",
    "                if checkLeft(node, p1, p2):\n",
    "                    NoOfPoints += 1\n",
    "                    \n",
    "            else:\n",
    "                #RIGHT DIAGONAL\n",
    "                if slope > 0:\n",
    "                    NoOfPoints += int(checkRight(node,p1,p2)==True)\n",
    "                    \n",
    "                #LEFT DIAGONAL    \n",
    "                if slope < 0:\n",
    "                    NoOfPoints += int(checkLeft(node,p1,p2)==True)\n",
    "                    \n",
    "                if type(node.left) == list: \n",
    "                    Nl = ToNode(node.left)\n",
    "                else: \n",
    "                    Nl = node.left\n",
    "                if type(node.right) == list: \n",
    "                    Nr = ToNode(node.right)\n",
    "                else: \n",
    "                    Nr = node.right\n",
    "                NoOfPoints += CountQueryPoints(Nl, p1, p2)\n",
    "                NoOfPoints += CountQueryPoints(Nr, p1, p2)\n",
    "            \n",
    "    return NoOfPoints"
   ]
  },
  {
   "cell_type": "code",
   "execution_count": 16,
   "id": "fd2bf176",
   "metadata": {},
   "outputs": [],
   "source": [
    "points = np.array([(0,1),(3,3),(4,6),(5,5),(10,10),(12,13),(13,14)])"
   ]
  },
  {
   "cell_type": "code",
   "execution_count": 17,
   "id": "fda55398",
   "metadata": {},
   "outputs": [],
   "source": [
    "root = buildKdTree(points, 0)"
   ]
  },
  {
   "cell_type": "code",
   "execution_count": 18,
   "id": "28f95b02",
   "metadata": {},
   "outputs": [
    {
     "name": "stdout",
     "output_type": "stream",
     "text": [
      "root:  [5 5] 0 left:  [3 3] right:  [12 13]\n",
      "root:  [3 3] 1 left:  [0 1] right:  [4 6]\n",
      "root:  [12 13] 1 left:  [10 10] right:  [13 14]\n",
      "root:  [0 1] 1 left:  None right:  None\n",
      "root:  [4 6] 1 left:  None right:  None\n",
      "root:  [10 10] 1 left:  None right:  None\n",
      "root:  [13 14] 1 left:  None right:  None\n"
     ]
    }
   ],
   "source": [
    "dfs(root)"
   ]
  },
  {
   "cell_type": "code",
   "execution_count": 19,
   "id": "aaf1e5c6",
   "metadata": {},
   "outputs": [
    {
     "name": "stdout",
     "output_type": "stream",
     "text": [
      "7\n"
     ]
    }
   ],
   "source": [
    "#Case: Right Diagonal\n",
    "print(CountQueryPoints(root,[-1,-1],[15,15]))"
   ]
  },
  {
   "cell_type": "code",
   "execution_count": 20,
   "id": "f6f3a56a",
   "metadata": {},
   "outputs": [
    {
     "name": "stdout",
     "output_type": "stream",
     "text": [
      "0\n"
     ]
    }
   ],
   "source": [
    "#Case: Left Diagonal\n",
    "print(CountQueryPoints(root,[-15,15],[-1,1]))"
   ]
  },
  {
   "cell_type": "code",
   "execution_count": 21,
   "id": "9fd3ff9e",
   "metadata": {},
   "outputs": [
    {
     "name": "stdout",
     "output_type": "stream",
     "text": [
      "Collinear points\n",
      "None\n"
     ]
    }
   ],
   "source": [
    "#Case: Collinear\n",
    "print(CountQueryPoints(root,[-1,-1],[15,-1]))"
   ]
  },
  {
   "cell_type": "code",
   "execution_count": 22,
   "id": "a166d51e",
   "metadata": {},
   "outputs": [
    {
     "name": "stdout",
     "output_type": "stream",
     "text": [
      "Collinear points\n",
      "None\n"
     ]
    }
   ],
   "source": [
    "#Case: Collinear\n",
    "print(CountQueryPoints(root,[-1,-1],[-1,15]))"
   ]
  }
 ],
 "metadata": {
  "kernelspec": {
   "display_name": "Python 3",
   "language": "python",
   "name": "python3"
  },
  "language_info": {
   "codemirror_mode": {
    "name": "ipython",
    "version": 3
   },
   "file_extension": ".py",
   "mimetype": "text/x-python",
   "name": "python",
   "nbconvert_exporter": "python",
   "pygments_lexer": "ipython3",
   "version": "3.8.8"
  },
  "toc": {
   "base_numbering": 1,
   "nav_menu": {},
   "number_sections": true,
   "sideBar": true,
   "skip_h1_title": false,
   "title_cell": "Table of Contents",
   "title_sidebar": "Contents",
   "toc_cell": true,
   "toc_position": {},
   "toc_section_display": true,
   "toc_window_display": false
  }
 },
 "nbformat": 4,
 "nbformat_minor": 5
}
