{
 "cells": [
  {
   "cell_type": "markdown",
   "id": "876fab78",
   "metadata": {
    "toc": true
   },
   "source": [
    "<h1>Table of Contents<span class=\"tocSkip\"></span></h1>\n",
    "<div class=\"toc\"><ul class=\"toc-item\"></ul></div>"
   ]
  },
  {
   "cell_type": "code",
   "execution_count": 91,
   "id": "25ad53f7",
   "metadata": {},
   "outputs": [],
   "source": [
    "import statistics\n",
    "import numpy as np\n",
    "import sys"
   ]
  },
  {
   "cell_type": "code",
   "execution_count": 92,
   "id": "d000bed0",
   "metadata": {},
   "outputs": [],
   "source": [
    "class Node:\n",
    "    def __init__(self, val, weight, axis=0):\n",
    "        self.right = self.left = None\n",
    "        self.val = val\n",
    "        self.weight = weight\n",
    "        self.axis = axis\n",
    "        "
   ]
  },
  {
   "cell_type": "code",
   "execution_count": 250,
   "id": "465b50ac",
   "metadata": {},
   "outputs": [],
   "source": [
    "def preorderTraversal(root):\n",
    "    res, stack = [], [root]\n",
    "    while stack:\n",
    "        node = stack.pop()\n",
    "        if node:\n",
    "            res.insert(0, [node.val,node.weight])\n",
    "            stack.append(node.left)\n",
    "            stack.append(node.right)\n",
    "    return res"
   ]
  },
  {
   "cell_type": "code",
   "execution_count": 271,
   "id": "5ef7c419",
   "metadata": {},
   "outputs": [],
   "source": [
    "def dfs(root):\n",
    "    res, stack = [], [root]\n",
    "    while stack:\n",
    "        for i in range(len(stack)):\n",
    "            node = stack.pop(0)\n",
    "            if node:\n",
    "                stack.append(node.left)\n",
    "                stack.append(node.right)\n",
    "                print(\"root: \", [node.val, node.weight] if node else \"None\", \"left: \", [node.left.val, node.left.weight] if node.left else \"None\", \"right: \", [node.right.val, node.right.weight] if node.right else \"None\", \"axis: \", \"None\" if node.axis == \"None\" else node.axis)    "
   ]
  },
  {
   "cell_type": "code",
   "execution_count": 262,
   "id": "e36191c8",
   "metadata": {},
   "outputs": [],
   "source": [
    "def buildKdTree(points, hyperplaneAxis = 0, weights = None):\n",
    "    if weights == None:\n",
    "        points = [[point] for point in points]\n",
    "    else:\n",
    "        points = [[point, weight] for point, weight in zip(points, weights)]\n",
    "    print(points)\n",
    "    return buildTreeWithMedian(points, hyperplaneAxis)"
   ]
  },
  {
   "cell_type": "code",
   "execution_count": 263,
   "id": "6d28fa9c",
   "metadata": {},
   "outputs": [],
   "source": [
    "def buildTreeWithMedian(points, hyperplaneAxis = 0):\n",
    "    \n",
    "    dim = len(points[0])\n",
    "    nxtHyperplaneAxis = (hyperplaneAxis + 1) % dim\n",
    "    \n",
    "    if len(points) == 1:\n",
    "#         print(\"when points are 1: \", points[0][0])\n",
    "        return Node(points[0][0][0], points[0][0][1], nxtHyperplaneAxis)\n",
    "    \n",
    "    medianIndex = len(points) // 2\n",
    "    sortedPoints = sorted(points, key=lambda x: x[0])\n",
    "\n",
    "    median = sortedPoints[medianIndex]\n",
    "    leftPoints = sortedPoints[:medianIndex]\n",
    "    rightPoints = sortedPoints[medianIndex + 1:]\n",
    "\n",
    "#     print(\"sorted based on: \", dim , sortedPoints)\n",
    "#     print(\"median: \", median)\n",
    "#     print(\"leftPoints: \", leftPoints)\n",
    "#     print(\"rightPoints: \", rightPoints)\n",
    "#     print(\"hyperplane axis: \", hyperplaneAxis)\n",
    "    \n",
    "    currNode = Node(median[0], median[1], hyperplaneAxis)\n",
    "    currNode.left = buildKdTree(leftPoints, nxtHyperplaneAxis) if len(leftPoints) > 0 else []\n",
    "    currNode.right = buildKdTree(rightPoints, nxtHyperplaneAxis) if len(rightPoints) > 0 else []\n",
    "    return currNode"
   ]
  },
  {
   "cell_type": "code",
   "execution_count": 264,
   "id": "e5c107f6",
   "metadata": {},
   "outputs": [],
   "source": [
    "points = np.array([(86, 338), (164, 360), (75, 58), (5,358), (400, 346), (281, 411), (136, 39), (324, 54),(296,332)])"
   ]
  },
  {
   "cell_type": "code",
   "execution_count": 265,
   "id": "c1c128cb",
   "metadata": {},
   "outputs": [],
   "source": [
    "# points = np.array([(86, 338, 13), (164, 360, 34), (75, 58, 190), (5,358, 120),(400, 346, 290), (281, 411, 342), (136, 39, 456),(324, 54, 100),(296,332, 230)])"
   ]
  },
  {
   "cell_type": "code",
   "execution_count": 266,
   "id": "eedea019",
   "metadata": {},
   "outputs": [],
   "source": [
    "points = [[3,2], [8,4], [6,5]]\n",
    "weights = [1,2,1]"
   ]
  },
  {
   "cell_type": "code",
   "execution_count": 267,
   "id": "91a5d95d",
   "metadata": {},
   "outputs": [],
   "source": [
    "weights = [10, 5, 20, 15, 30]"
   ]
  },
  {
   "cell_type": "code",
   "execution_count": 268,
   "id": "ce9b4dfd",
   "metadata": {},
   "outputs": [
    {
     "name": "stdout",
     "output_type": "stream",
     "text": [
      "[[[3, 2], 10], [[8, 4], 5], [[6, 5], 20]]\n",
      "[[[[3, 2], 10]]]\n",
      "[[[[8, 4], 5]]]\n"
     ]
    }
   ],
   "source": [
    "root = buildKdTree(points,2,weights)"
   ]
  },
  {
   "cell_type": "code",
   "execution_count": 269,
   "id": "8dd5114e",
   "metadata": {},
   "outputs": [],
   "source": [
    "preorder = preorderTraversal(root)"
   ]
  },
  {
   "cell_type": "code",
   "execution_count": 272,
   "id": "60827372",
   "metadata": {},
   "outputs": [
    {
     "name": "stdout",
     "output_type": "stream",
     "text": [
      "root:  [[6, 5], 20] left:  [[3, 2], 10] right:  [[8, 4], 5] axis:  2\n",
      "root:  [[3, 2], 10] left:  None right:  None axis:  0\n",
      "root:  [[8, 4], 5] left:  None right:  None axis:  0\n"
     ]
    }
   ],
   "source": [
    "dfs(root)"
   ]
  },
  {
   "cell_type": "code",
   "execution_count": 273,
   "id": "d0e5d9d6",
   "metadata": {},
   "outputs": [],
   "source": [
    "def checkRight(node : Node, bottom_left : list, top_right : list) -> bool:\n",
    "    if (node.val[0] > bottom_left[0]) and (node.val[0] < top_right[0]) and (node.val[1] > bottom_left[1]) and (node.val[1] < top_right[1]):\n",
    "        return True\n",
    "    else:\n",
    "        return False"
   ]
  },
  {
   "cell_type": "code",
   "execution_count": 274,
   "id": "13065655",
   "metadata": {},
   "outputs": [],
   "source": [
    "def checkLeft(node : Node, top_left : list, bottom_right : list) -> bool:\n",
    "    if (node.val[0] > bottom_right[0]) and (node.val[0] < top_left[0]) and (node.val[1] > top_left[1]) and (node.val[1] < bottom_right[1]):\n",
    "        return True\n",
    "    else:\n",
    "        return False"
   ]
  },
  {
   "cell_type": "code",
   "execution_count": 275,
   "id": "0940903f",
   "metadata": {},
   "outputs": [],
   "source": [
    "def isLeaf(node : Node) -> bool:\n",
    "    if node==None:\n",
    "        return False\n",
    "    if node.left==None and node.right==None:\n",
    "        return True\n",
    "    return False"
   ]
  },
  {
   "cell_type": "code",
   "execution_count": 276,
   "id": "674f1448",
   "metadata": {},
   "outputs": [],
   "source": [
    "def ToNode(node : list) -> Node:\n",
    "    N = Node(node)\n",
    "    return N"
   ]
  },
  {
   "cell_type": "code",
   "execution_count": 277,
   "id": "f017672d",
   "metadata": {},
   "outputs": [],
   "source": [
    "def CountQueryPoints(node : Node, p1 : list, p2 : list) ->int:\n",
    "    \n",
    "    NoOfPoints = 0\n",
    "    if p1[0]==p2[0]:\n",
    "        print('Collinear points')\n",
    "        return\n",
    "    else:\n",
    "        slope = (p2[1] - p1[1])/(p2[0] - p1[0])\n",
    "        \n",
    "        if slope == 0:\n",
    "            print('Collinear points')\n",
    "            return\n",
    "        \n",
    "        else:\n",
    "            #RIGHT DIAGONAL\n",
    "            if isLeaf(node) and slope > 0:\n",
    "                if checkRight(node, p1, p2):\n",
    "                    NoOfPoints += 1\n",
    "                    \n",
    "            #LEFT DIAGONAL\n",
    "            elif isLeaf(node) and slope < 0:\n",
    "                if checkLeft(node, p1, p2):\n",
    "                    NoOfPoints += 1\n",
    "                    \n",
    "            else:\n",
    "                #RIGHT DIAGONAL\n",
    "                if slope > 0:\n",
    "                    NoOfPoints += int(checkRight(node,p1,p2)==True)\n",
    "                    \n",
    "                #LEFT DIAGONAL    \n",
    "                if slope < 0:\n",
    "                    NoOfPoints += int(checkLeft(node,p1,p2)==True)\n",
    "                    \n",
    "                if type(node.left) == list: \n",
    "                    Nl = ToNode(node.left)\n",
    "                else: \n",
    "                    Nl = node.left\n",
    "                if type(node.right) == list: \n",
    "                    Nr = ToNode(node.right)\n",
    "                else: \n",
    "                    Nr = node.right\n",
    "                NoOfPoints += CountQueryPoints(Nl, p1, p2)\n",
    "                NoOfPoints += CountQueryPoints(Nr, p1, p2)\n",
    "            \n",
    "    return NoOfPoints"
   ]
  },
  {
   "cell_type": "code",
   "execution_count": 278,
   "id": "1352cfcb",
   "metadata": {},
   "outputs": [],
   "source": [
    "def Max(root):\n",
    "    Max, stack = [], []\n",
    "    cur = root\n",
    "    while cur or stack:\n",
    "        while cur:\n",
    "            stack.append(cur)\n",
    "            Max.append(cur.weight)\n",
    "            cur = cur.left\n",
    "        cur = stack.pop()\n",
    "        cur = cur.right\n",
    "        node = stack.pop()\n",
    "    return max(Max)"
   ]
  },
  {
   "cell_type": "code",
   "execution_count": 279,
   "id": "69ca8a57",
   "metadata": {},
   "outputs": [],
   "source": [
    "def Min(root):\n",
    "    Max, stack = [], []\n",
    "    cur = root\n",
    "    while cur or stack:\n",
    "        while cur:\n",
    "            stack.append(cur)\n",
    "            Max.append(cur.weight)\n",
    "            cur = cur.left\n",
    "        cur = stack.pop()\n",
    "        cur = cur.right\n",
    "        node = stack.pop()\n",
    "    return min(Max)"
   ]
  },
  {
   "cell_type": "code",
   "execution_count": 280,
   "id": "6164356c",
   "metadata": {},
   "outputs": [
    {
     "ename": "TypeError",
     "evalue": "buildKdTree() takes from 1 to 3 positional arguments but 4 were given",
     "output_type": "error",
     "traceback": [
      "\u001b[1;31m---------------------------------------------------------------------------\u001b[0m",
      "\u001b[1;31mTypeError\u001b[0m                                 Traceback (most recent call last)",
      "\u001b[1;32m<ipython-input-280-3c9fcca781c1>\u001b[0m in \u001b[0;36m<module>\u001b[1;34m\u001b[0m\n\u001b[0;32m      1\u001b[0m \u001b[0mpoints\u001b[0m \u001b[1;33m=\u001b[0m \u001b[1;33m[\u001b[0m\u001b[1;33m[\u001b[0m\u001b[1;36m3\u001b[0m\u001b[1;33m,\u001b[0m\u001b[1;36m2\u001b[0m\u001b[1;33m]\u001b[0m\u001b[1;33m,\u001b[0m \u001b[1;33m[\u001b[0m\u001b[1;36m8\u001b[0m\u001b[1;33m,\u001b[0m\u001b[1;36m4\u001b[0m\u001b[1;33m]\u001b[0m\u001b[1;33m,\u001b[0m \u001b[1;33m[\u001b[0m\u001b[1;36m6\u001b[0m\u001b[1;33m,\u001b[0m\u001b[1;36m5\u001b[0m\u001b[1;33m]\u001b[0m\u001b[1;33m]\u001b[0m\u001b[1;33m\u001b[0m\u001b[1;33m\u001b[0m\u001b[0m\n\u001b[0;32m      2\u001b[0m \u001b[0mweights\u001b[0m \u001b[1;33m=\u001b[0m \u001b[1;33m[\u001b[0m\u001b[1;36m1\u001b[0m\u001b[1;33m,\u001b[0m\u001b[1;36m2\u001b[0m\u001b[1;33m,\u001b[0m\u001b[1;36m1\u001b[0m\u001b[1;33m]\u001b[0m\u001b[1;33m\u001b[0m\u001b[1;33m\u001b[0m\u001b[0m\n\u001b[1;32m----> 3\u001b[1;33m \u001b[0mroot\u001b[0m \u001b[1;33m=\u001b[0m \u001b[0mbuildKdTree\u001b[0m\u001b[1;33m(\u001b[0m\u001b[0mpoints\u001b[0m\u001b[1;33m,\u001b[0m\u001b[1;36m2\u001b[0m\u001b[1;33m,\u001b[0m\u001b[0mweights\u001b[0m\u001b[1;33m,\u001b[0m\u001b[1;36m0\u001b[0m\u001b[1;33m)\u001b[0m\u001b[1;33m\u001b[0m\u001b[1;33m\u001b[0m\u001b[0m\n\u001b[0m\u001b[0;32m      4\u001b[0m \u001b[0mprint\u001b[0m\u001b[1;33m(\u001b[0m\u001b[0mMax\u001b[0m\u001b[1;33m(\u001b[0m\u001b[0mroot\u001b[0m\u001b[1;33m)\u001b[0m\u001b[1;33m)\u001b[0m\u001b[1;33m\u001b[0m\u001b[1;33m\u001b[0m\u001b[0m\n\u001b[0;32m      5\u001b[0m \u001b[0mprint\u001b[0m\u001b[1;33m(\u001b[0m\u001b[0mMin\u001b[0m\u001b[1;33m(\u001b[0m\u001b[0mroot\u001b[0m\u001b[1;33m)\u001b[0m\u001b[1;33m)\u001b[0m\u001b[1;33m\u001b[0m\u001b[1;33m\u001b[0m\u001b[0m\n",
      "\u001b[1;31mTypeError\u001b[0m: buildKdTree() takes from 1 to 3 positional arguments but 4 were given"
     ]
    }
   ],
   "source": [
    "points = [[3,2], [8,4], [6,5]]\n",
    "weights = [1,2,1]\n",
    "root = buildKdTree(points,2,weights,0)\n",
    "print(Max(root))\n",
    "print(Min(root))"
   ]
  },
  {
   "cell_type": "code",
   "execution_count": 127,
   "id": "fd2bf176",
   "metadata": {},
   "outputs": [],
   "source": [
    "points = np.array([(0,1),(3,3),(4,6),(5,5),(10,10),(12,13),(13,14)])"
   ]
  },
  {
   "cell_type": "code",
   "execution_count": 281,
   "id": "fda55398",
   "metadata": {},
   "outputs": [
    {
     "name": "stdout",
     "output_type": "stream",
     "text": [
      "[[[3, 2]], [[8, 4]], [[6, 5]]]\n"
     ]
    },
    {
     "ename": "IndexError",
     "evalue": "list index out of range",
     "output_type": "error",
     "traceback": [
      "\u001b[1;31m---------------------------------------------------------------------------\u001b[0m",
      "\u001b[1;31mIndexError\u001b[0m                                Traceback (most recent call last)",
      "\u001b[1;32m<ipython-input-281-51417e1e46e0>\u001b[0m in \u001b[0;36m<module>\u001b[1;34m\u001b[0m\n\u001b[1;32m----> 1\u001b[1;33m \u001b[0mroot\u001b[0m \u001b[1;33m=\u001b[0m \u001b[0mbuildKdTree\u001b[0m\u001b[1;33m(\u001b[0m\u001b[0mpoints\u001b[0m\u001b[1;33m,\u001b[0m \u001b[1;36m0\u001b[0m\u001b[1;33m,\u001b[0m \u001b[1;33m)\u001b[0m\u001b[1;33m\u001b[0m\u001b[1;33m\u001b[0m\u001b[0m\n\u001b[0m",
      "\u001b[1;32m<ipython-input-262-bd873c35e10b>\u001b[0m in \u001b[0;36mbuildKdTree\u001b[1;34m(points, hyperplaneAxis, weights)\u001b[0m\n\u001b[0;32m      5\u001b[0m         \u001b[0mpoints\u001b[0m \u001b[1;33m=\u001b[0m \u001b[1;33m[\u001b[0m\u001b[1;33m[\u001b[0m\u001b[0mpoint\u001b[0m\u001b[1;33m,\u001b[0m \u001b[0mweight\u001b[0m\u001b[1;33m]\u001b[0m \u001b[1;32mfor\u001b[0m \u001b[0mpoint\u001b[0m\u001b[1;33m,\u001b[0m \u001b[0mweight\u001b[0m \u001b[1;32min\u001b[0m \u001b[0mzip\u001b[0m\u001b[1;33m(\u001b[0m\u001b[0mpoints\u001b[0m\u001b[1;33m,\u001b[0m \u001b[0mweights\u001b[0m\u001b[1;33m)\u001b[0m\u001b[1;33m]\u001b[0m\u001b[1;33m\u001b[0m\u001b[1;33m\u001b[0m\u001b[0m\n\u001b[0;32m      6\u001b[0m     \u001b[0mprint\u001b[0m\u001b[1;33m(\u001b[0m\u001b[0mpoints\u001b[0m\u001b[1;33m)\u001b[0m\u001b[1;33m\u001b[0m\u001b[1;33m\u001b[0m\u001b[0m\n\u001b[1;32m----> 7\u001b[1;33m     \u001b[1;32mreturn\u001b[0m \u001b[0mbuildTreeWithMedian\u001b[0m\u001b[1;33m(\u001b[0m\u001b[0mpoints\u001b[0m\u001b[1;33m,\u001b[0m \u001b[0mhyperplaneAxis\u001b[0m\u001b[1;33m)\u001b[0m\u001b[1;33m\u001b[0m\u001b[1;33m\u001b[0m\u001b[0m\n\u001b[0m",
      "\u001b[1;32m<ipython-input-263-eb3a2d980902>\u001b[0m in \u001b[0;36mbuildTreeWithMedian\u001b[1;34m(points, hyperplaneAxis)\u001b[0m\n\u001b[0;32m     21\u001b[0m \u001b[1;31m#     print(\"hyperplane axis: \", hyperplaneAxis)\u001b[0m\u001b[1;33m\u001b[0m\u001b[1;33m\u001b[0m\u001b[1;33m\u001b[0m\u001b[0m\n\u001b[0;32m     22\u001b[0m \u001b[1;33m\u001b[0m\u001b[0m\n\u001b[1;32m---> 23\u001b[1;33m     \u001b[0mcurrNode\u001b[0m \u001b[1;33m=\u001b[0m \u001b[0mNode\u001b[0m\u001b[1;33m(\u001b[0m\u001b[0mmedian\u001b[0m\u001b[1;33m[\u001b[0m\u001b[1;36m0\u001b[0m\u001b[1;33m]\u001b[0m\u001b[1;33m,\u001b[0m \u001b[0mmedian\u001b[0m\u001b[1;33m[\u001b[0m\u001b[1;36m1\u001b[0m\u001b[1;33m]\u001b[0m\u001b[1;33m,\u001b[0m \u001b[0mhyperplaneAxis\u001b[0m\u001b[1;33m)\u001b[0m\u001b[1;33m\u001b[0m\u001b[1;33m\u001b[0m\u001b[0m\n\u001b[0m\u001b[0;32m     24\u001b[0m     \u001b[0mcurrNode\u001b[0m\u001b[1;33m.\u001b[0m\u001b[0mleft\u001b[0m \u001b[1;33m=\u001b[0m \u001b[0mbuildKdTree\u001b[0m\u001b[1;33m(\u001b[0m\u001b[0mleftPoints\u001b[0m\u001b[1;33m,\u001b[0m \u001b[0mnxtHyperplaneAxis\u001b[0m\u001b[1;33m)\u001b[0m \u001b[1;32mif\u001b[0m \u001b[0mlen\u001b[0m\u001b[1;33m(\u001b[0m\u001b[0mleftPoints\u001b[0m\u001b[1;33m)\u001b[0m \u001b[1;33m>\u001b[0m \u001b[1;36m0\u001b[0m \u001b[1;32melse\u001b[0m \u001b[1;33m[\u001b[0m\u001b[1;33m]\u001b[0m\u001b[1;33m\u001b[0m\u001b[1;33m\u001b[0m\u001b[0m\n\u001b[0;32m     25\u001b[0m     \u001b[0mcurrNode\u001b[0m\u001b[1;33m.\u001b[0m\u001b[0mright\u001b[0m \u001b[1;33m=\u001b[0m \u001b[0mbuildKdTree\u001b[0m\u001b[1;33m(\u001b[0m\u001b[0mrightPoints\u001b[0m\u001b[1;33m,\u001b[0m \u001b[0mnxtHyperplaneAxis\u001b[0m\u001b[1;33m)\u001b[0m \u001b[1;32mif\u001b[0m \u001b[0mlen\u001b[0m\u001b[1;33m(\u001b[0m\u001b[0mrightPoints\u001b[0m\u001b[1;33m)\u001b[0m \u001b[1;33m>\u001b[0m \u001b[1;36m0\u001b[0m \u001b[1;32melse\u001b[0m \u001b[1;33m[\u001b[0m\u001b[1;33m]\u001b[0m\u001b[1;33m\u001b[0m\u001b[1;33m\u001b[0m\u001b[0m\n",
      "\u001b[1;31mIndexError\u001b[0m: list index out of range"
     ]
    }
   ],
   "source": [
    "root = buildKdTree(points, 0, )"
   ]
  },
  {
   "cell_type": "code",
   "execution_count": 282,
   "id": "28f95b02",
   "metadata": {},
   "outputs": [
    {
     "name": "stdout",
     "output_type": "stream",
     "text": [
      "root:  [[6, 5], 20] left:  [[3, 2], 10] right:  [[8, 4], 5] axis:  2\n",
      "root:  [[3, 2], 10] left:  None right:  None axis:  0\n",
      "root:  [[8, 4], 5] left:  None right:  None axis:  0\n"
     ]
    }
   ],
   "source": [
    "dfs(root)"
   ]
  },
  {
   "cell_type": "code",
   "execution_count": 283,
   "id": "aaf1e5c6",
   "metadata": {},
   "outputs": [
    {
     "name": "stdout",
     "output_type": "stream",
     "text": [
      "3\n"
     ]
    }
   ],
   "source": [
    "#Case: Right Diagonal\n",
    "print(CountQueryPoints(root,[-1,-1],[15,15]))"
   ]
  },
  {
   "cell_type": "code",
   "execution_count": 284,
   "id": "f6f3a56a",
   "metadata": {},
   "outputs": [
    {
     "name": "stdout",
     "output_type": "stream",
     "text": [
      "0\n"
     ]
    }
   ],
   "source": [
    "#Case: Left Diagonal\n",
    "print(CountQueryPoints(root,[-15,15],[-1,1]))"
   ]
  },
  {
   "cell_type": "code",
   "execution_count": 285,
   "id": "9fd3ff9e",
   "metadata": {},
   "outputs": [
    {
     "name": "stdout",
     "output_type": "stream",
     "text": [
      "Collinear points\n",
      "None\n"
     ]
    }
   ],
   "source": [
    "#Case: Collinear\n",
    "print(CountQueryPoints(root,[-1,-1],[15,-1]))"
   ]
  },
  {
   "cell_type": "code",
   "execution_count": 286,
   "id": "a166d51e",
   "metadata": {},
   "outputs": [
    {
     "name": "stdout",
     "output_type": "stream",
     "text": [
      "Collinear points\n",
      "None\n"
     ]
    }
   ],
   "source": [
    "#Case: Collinear\n",
    "print(CountQueryPoints(root,[-1,-1],[-1,15]))"
   ]
  },
  {
   "cell_type": "code",
   "execution_count": 287,
   "id": "fef8f282",
   "metadata": {},
   "outputs": [],
   "source": [
    "def NNKDTree(queryPoint, root, threshold, noOfPoints):\n",
    "    listOfNeighbors = []\n",
    "    return NNKDTreeRec(queryPoint, root, threshold, noOfPoints, listOfNeighbors)"
   ]
  },
  {
   "cell_type": "code",
   "execution_count": 288,
   "id": "a0f53c10",
   "metadata": {},
   "outputs": [],
   "source": [
    "def squareDistance(p1, p2):\n",
    "    retValue = abs((p1[0] - p2[0]) ^ 2 - (p1[1] - p2[1]) ^ 2)\n",
    "    print(\"p1: \", p1, \"p2: \", p2, \"print val: \", retValue)\n",
    "    return retValue"
   ]
  },
  {
   "cell_type": "code",
   "execution_count": 289,
   "id": "54c71898",
   "metadata": {},
   "outputs": [],
   "source": [
    "def NNKDTreeRec(queryPoint, root, threshold, noOfPoints, listOfNeighbors):\n",
    "    if not root:\n",
    "        return listOfNeighbors\n",
    "    else:\n",
    "        if squareDistance(root.val, queryPoint) < threshold and len(listOfNeighbors) < noOfPoints:\n",
    "            listOfNeighbors.append(root.val)\n",
    "        if root.left == None and root.right == None:\n",
    "            return listOfNeighbors\n",
    "        else:\n",
    "            T1, T2 = None, None\n",
    "            query = queryPoint[0] if root.axis == 0 else queryPoint[1]\n",
    "            currRoot = root.val[0] if root.axis == 0 else root.val[1]\n",
    "                \n",
    "            if query < root.val[0] if root.axis == 0 else root.val[1]:\n",
    "                T1 = root.left\n",
    "                T2 = root.right\n",
    "            else:\n",
    "                T1 = root.right\n",
    "                T2 = root.left\n",
    "            leftList = NNKDTreeRec(queryPoint, T1, threshold, noOfPoints, listOfNeighbors)\n",
    "            if len(leftList) < noOfPoints and squareDistance(root.val, queryPoint) < threshold:\n",
    "                rightList = NNKDTreeRec(queryPoint, root.right, threshold, noOfPoints, listOfNeighbors)\n",
    "            else:\n",
    "                rightList = NNKDTreeRec(queryPoint, root.right, threshold, noOfPoints, listOfNeighbors)\n",
    "    return listOfNeighbors"
   ]
  },
  {
   "cell_type": "code",
   "execution_count": 290,
   "id": "3f97e802",
   "metadata": {},
   "outputs": [
    {
     "data": {
      "text/plain": [
       "([[3, 2], [8, 4], [6, 5]], [6, 5])"
      ]
     },
     "execution_count": 290,
     "metadata": {},
     "output_type": "execute_result"
    }
   ],
   "source": [
    "points, root.val"
   ]
  },
  {
   "cell_type": "code",
   "execution_count": 291,
   "id": "0a5274bd",
   "metadata": {},
   "outputs": [
    {
     "name": "stdout",
     "output_type": "stream",
     "text": [
      "p1:  [6, 5] p2:  [6, 4] print val:  3\n",
      "p1:  [3, 2] p2:  [6, 4] print val:  5\n",
      "p1:  [6, 5] p2:  [6, 4] print val:  3\n",
      "p1:  [8, 4] p2:  [6, 4] print val:  2\n"
     ]
    },
    {
     "data": {
      "text/plain": [
       "[[6, 5], [8, 4]]"
      ]
     },
     "execution_count": 291,
     "metadata": {},
     "output_type": "execute_result"
    }
   ],
   "source": [
    "NNKDTree([6,4], root, 5, 8)"
   ]
  },
  {
   "cell_type": "code",
   "execution_count": null,
   "id": "eb6ce64a",
   "metadata": {},
   "outputs": [],
   "source": []
  }
 ],
 "metadata": {
  "kernelspec": {
   "display_name": "Python 3",
   "language": "python",
   "name": "python3"
  },
  "language_info": {
   "codemirror_mode": {
    "name": "ipython",
    "version": 3
   },
   "file_extension": ".py",
   "mimetype": "text/x-python",
   "name": "python",
   "nbconvert_exporter": "python",
   "pygments_lexer": "ipython3",
   "version": "3.8.8"
  },
  "toc": {
   "base_numbering": 1,
   "nav_menu": {},
   "number_sections": true,
   "sideBar": true,
   "skip_h1_title": false,
   "title_cell": "Table of Contents",
   "title_sidebar": "Contents",
   "toc_cell": true,
   "toc_position": {},
   "toc_section_display": true,
   "toc_window_display": false
  }
 },
 "nbformat": 4,
 "nbformat_minor": 5
}
