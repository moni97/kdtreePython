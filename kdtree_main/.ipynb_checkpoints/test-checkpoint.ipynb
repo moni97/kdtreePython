{
 "cells": [
  {
   "cell_type": "markdown",
   "id": "592b23ec",
   "metadata": {
    "toc": true
   },
   "source": [
    "<h1>Table of Contents<span class=\"tocSkip\"></span></h1>\n",
    "<div class=\"toc\"><ul class=\"toc-item\"></ul></div>"
   ]
  },
  {
   "cell_type": "code",
   "execution_count": 162,
   "id": "5b0ccf0f",
   "metadata": {},
   "outputs": [],
   "source": [
    "# #!/usr/bin/env python\n",
    "# # coding: utf-8\n",
    "\n",
    "# # <h1>Table of Contents<span class=\"tocSkip\"></span></h1>\n",
    "# # <div class=\"toc\"><ul class=\"toc-item\"></ul></div>\n",
    "\n",
    "# # In[476]:\n",
    "\n",
    "\n",
    "# import statistics\n",
    "# import numpy as np\n",
    "# import sys\n",
    "# from graphviz import Digraph \n",
    "\n",
    "\n",
    "# # In[2]:\n",
    "\n",
    "\n",
    "# class Node:\n",
    "# #     @classmethod\n",
    "#     def __init__(self, val, axis=0, count = 0, weight = None, minWeight=None, maxWeight=None):\n",
    "#         self.right = self.left = None\n",
    "#         self.val = val\n",
    "#         self.axis = axis\n",
    "#         self.count = count\n",
    "#         self.weight = None\n",
    "#         if weight:\n",
    "#             self.weight = {\n",
    "#                 \"weight\": weight,\n",
    "#                 \"minWeight\": minWeight,\n",
    "#                 \"maxWeight\": maxWeight\n",
    "#             }\n",
    "# class KDTree: \n",
    "#     @classmethod\n",
    "#     def preorderTraversal(self, root):\n",
    "#         res, stack = [], [root]\n",
    "#         while stack:\n",
    "#             node = stack.pop()\n",
    "#             if node:\n",
    "#                 print(node.val)\n",
    "#                 if node.weight:\n",
    "#                     res.insert(0, [node.val])\n",
    "#                 else:\n",
    "#                     res.insert(0, [node.val])\n",
    "#                 stack.append(node.left)\n",
    "#                 stack.append(node.right)\n",
    "#         return res\n",
    "    \n",
    "#     @classmethod\n",
    "#     def dfs(self, root):\n",
    "#         res, stack = {}, [root]\n",
    "#         while stack:\n",
    "#             for i in range(len(stack)):\n",
    "#                 node = stack.pop(0)\n",
    "#                 if node:\n",
    "#                     stack.append(node.left)\n",
    "#                     stack.append(node.right)\n",
    "#                     childNodes = [node.left, node.right]\n",
    "#                     parentKey = [\n",
    "#                             node.val, \n",
    "#                             node.axis,\n",
    "#                             node.count,\n",
    "#                             node.weight[\"weight\"] if node.weight else 0,\n",
    "#                             node.weight[\"minWeight\"] if node.weight else 0,\n",
    "#                             node.weight[\"maxWeight\"] if node.weight else 0\n",
    "#                                 ]\n",
    "#                     res[str(parentKey)] = []\n",
    "#                     for child in childNodes:\n",
    "#                         if child:\n",
    "#                             res[str(parentKey)].append(str([\n",
    "#                                 child.val,\n",
    "#                                 child.axis,\n",
    "#                                 child.count,\n",
    "#                                 child.weight[\"weight\"] if child.weight else 0,\n",
    "#                                 child.weight[\"minWeight\"] if child.weight else 0,\n",
    "#                                 child.weight[\"maxWeight\"] if child.weight else 0\n",
    "#                             ]))\n",
    "#         return res\n",
    "    \n",
    "#     @classmethod\n",
    "#     def buildKdTree(self, points, weights = None):\n",
    "#         if not weights:\n",
    "#             points = [[point] for point in points]\n",
    "#         else:\n",
    "#             if len(points) != len(weights):\n",
    "#                 print(\"Incompatible len of points and weights\")\n",
    "#                 return\n",
    "#             points = [[point, weight] for point, weight in zip(points, weights)]\n",
    "#         return self.buildTreeWithMedian(points)\n",
    "    \n",
    "#     @classmethod\n",
    "#     def visualizeGraph(self, treeList):\n",
    "#         dot = Digraph(comment='Tree')\n",
    "#         for node in treeList:\n",
    "#             dot.node(node)\n",
    "\n",
    "#         for node, edges in treeList.items():\n",
    "#             for edge in edges:\n",
    "#                 dot.edge(node, edge)\n",
    "\n",
    "#         dot.render('tree', view=True)\n",
    "\n",
    "#     @classmethod\n",
    "#     def checkRight(self, node : Node, bottom_left : list, top_right : list) -> bool:\n",
    "#         if (node.val[0] > bottom_left[0]) and (node.val[0] < top_right[0]) and (node.val[1] > bottom_left[1]) and (node.val[1] < top_right[1]):\n",
    "#             return True\n",
    "#         else:\n",
    "#             return False\n",
    "\n",
    "#     @classmethod\n",
    "#     def checkLeft(self, node : Node, top_left : list, bottom_right : list) -> bool:\n",
    "#         if (node.val[0] > bottom_right[0]) and (node.val[0] < top_left[0]) and (node.val[1] > top_left[1]) and (node.val[1] < bottom_right[1]):\n",
    "#             return True\n",
    "#         else:\n",
    "#             return False\n",
    "    \n",
    "#     @classmethod\n",
    "#     def isLeaf(self, node : Node) -> bool:\n",
    "#         if node==None:\n",
    "#             return False\n",
    "#         if node.left==None and node.right==None:\n",
    "#             return True\n",
    "#         return False\n",
    "\n",
    "#     @classmethod\n",
    "#     def ToNode(self, node : list) -> Node:\n",
    "#         N = Node(node)\n",
    "#         return N\n",
    "\n",
    "#     @classmethod\n",
    "#     def CountQueryPoints(self, node : Node, p1 : list, p2 : list) ->int:\n",
    "\n",
    "#         NoOfPoints = 0\n",
    "#         if p1[0]==p2[0]:\n",
    "#             print('Collinear points')\n",
    "#             return\n",
    "#         else:\n",
    "#             slope = (p2[1] - p1[1])/(p2[0] - p1[0])\n",
    "\n",
    "#             if slope == 0:\n",
    "#                 print('Collinear points')\n",
    "#                 return\n",
    "\n",
    "#             else:\n",
    "#                 #RIGHT DIAGONAL\n",
    "#                 if isLeaf(node) and slope > 0:\n",
    "#                     if checkRight(node, p1, p2):\n",
    "#                         NoOfPoints += 1\n",
    "\n",
    "#                 #LEFT DIAGONAL\n",
    "#                 elif isLeaf(node) and slope < 0:\n",
    "#                     if checkLeft(node, p1, p2):\n",
    "#                         NoOfPoints += 1\n",
    "\n",
    "#                 else:\n",
    "#                     #RIGHT DIAGONAL\n",
    "#                     if slope > 0:\n",
    "#                         NoOfPoints += int(checkRight(node,p1,p2)==True)\n",
    "\n",
    "#                     #LEFT DIAGONAL    \n",
    "#                     if slope < 0:\n",
    "#                         NoOfPoints += int(checkLeft(node,p1,p2)==True)\n",
    "\n",
    "#                     if type(node.left) == list: \n",
    "#                         Nl = ToNode(node.left)\n",
    "#                     else: \n",
    "#                         Nl = node.left\n",
    "#                     if type(node.right) == list: \n",
    "#                         Nr = ToNode(node.right)\n",
    "#                     else: \n",
    "#                         Nr = node.right\n",
    "#                     NoOfPoints += CountQueryPoints(Nl, p1, p2)\n",
    "#                     NoOfPoints += CountQueryPoints(Nr, p1, p2)\n",
    "\n",
    "#         return NoOfPoints\n",
    "\n",
    "#     @classmethod\n",
    "#     def Max(self, root):\n",
    "#         Max, stack = [], []\n",
    "#         cur = root\n",
    "#         while cur or stack:\n",
    "#             while cur:\n",
    "#                 stack.append(cur)\n",
    "#                 Max.append(cur.weight)\n",
    "#                 cur = cur.left\n",
    "#             cur = stack.pop()\n",
    "#             cur = cur.right\n",
    "#             node = stack.pop()\n",
    "#         return max(Max)\n",
    "\n",
    "#     @classmethod\n",
    "#     def Min(self, root):\n",
    "#         Max, stack = [], []\n",
    "#         cur = root\n",
    "#         while cur or stack:\n",
    "#             while cur:\n",
    "#                 stack.append(cur)\n",
    "#                 Max.append(cur.weight)\n",
    "#                 cur = cur.left\n",
    "#             cur = stack.pop()\n",
    "#             cur = cur.right\n",
    "#             node = stack.pop()\n",
    "#         return min(Max)\n",
    "\n",
    "#     @classmethod\n",
    "#     def nnKDTree(self, queryPoint, root, threshold, noOfPoints):\n",
    "#         listOfNeighbors = []\n",
    "#         return self.nnKDTreeRec(queryPoint, root, threshold, noOfPoints, listOfNeighbors)\n",
    "\n",
    "#     @classmethod\n",
    "#     def squareDistance(self, p1, p2):\n",
    "#         retValue = abs((p1[0] - p2[0]) ^ 2 - (p1[1] - p2[1]) ^ 2)\n",
    "#         print(\"p1: \", p1, \"p2: \", p2, \"print val: \", retValue)\n",
    "#         return retValue\n",
    "\n",
    "#     @classmethod\n",
    "#     def nnKDTreeRec(self, queryPoint, root, threshold, noOfPoints, listOfNeighbors):\n",
    "#         if not root:\n",
    "#             return listOfNeighbors\n",
    "#         else:\n",
    "#             if self.squareDistance(root.val, queryPoint) < threshold and len(listOfNeighbors) < noOfPoints:\n",
    "#                 listOfNeighbors.append(root.val)\n",
    "#             if root.left == None and root.right == None:\n",
    "#                 return listOfNeighbors\n",
    "#             else:\n",
    "#                 T1, T2 = None, None\n",
    "#                 query = queryPoint[0] if root.axis == 0 else queryPoint[1]\n",
    "#                 currRoot = root.val[0] if root.axis == 0 else root.val[1]\n",
    "\n",
    "#                 if query < root.val[0] if root.axis == 0 else root.val[1]:\n",
    "#                     T1 = root.left\n",
    "#                     T2 = root.right\n",
    "#                 else:\n",
    "#                     T1 = root.right\n",
    "#                     T2 = root.left\n",
    "#                 leftList = self.nnKDTreeRec(queryPoint, T1, threshold, noOfPoints, listOfNeighbors)\n",
    "#                 if len(leftList) < noOfPoints and self.squareDistance(root.val, queryPoint) < threshold:\n",
    "#                     rightList = self.nnKDTreeRec(queryPoint, root.right, threshold, noOfPoints, listOfNeighbors)\n",
    "#                 else:\n",
    "#                     rightList = self.nnKDTreeRec(queryPoint, root.right, threshold, noOfPoints, listOfNeighbors)\n",
    "#         return listOfNeighbors\n",
    "\n",
    "    \n",
    "#     @classmethod\n",
    "#     def buildTreeWithMedian(self, points, hyperplaneAxis = 0):\n",
    "#         dim = len(points[0][0])\n",
    "#         nxtHyperplaneAxis = (hyperplaneAxis + 1) % dim\n",
    "#         if len(points) == 1:\n",
    "#             newNode = Node(points[0][0], hyperplaneAxis, 1, points[0][1] if len(points[0]) > 1 else 0, points[0][1] if len(points[0]) > 1 else 0, points[0][1] if len(points[0]) > 1 else 0)\n",
    "#             return newNode\n",
    "\n",
    "#         medianIndex = len(points) // 2\n",
    "#         sortedPoints = sorted(points, key=lambda x: x[0][hyperplaneAxis])\n",
    "#         median = sortedPoints[medianIndex]\n",
    "#         leftPoints = sortedPoints[:medianIndex]\n",
    "#         rightPoints = sortedPoints[medianIndex + 1:]\n",
    "#         sortedWeights = []\n",
    "\n",
    "#         if (len(points[0]) > 1):\n",
    "#             sortedWeights = sorted(points, key=lambda x: x[1])\n",
    "\n",
    "#         currNode = Node(median[0], hyperplaneAxis, len(points), median[1] if len(median) > 1 else 0, sortedWeights[0][1] if (len(points[0]) > 1) else 0, sortedWeights[-1][1] if (len(points[0]) > 1 and len(sortedWeights) > 1) else 0)\n",
    "#         currNode.left = self.buildTreeWithMedian(leftPoints, nxtHyperplaneAxis) if len(leftPoints) > 0 else []\n",
    "#         currNode.right = self.buildTreeWithMedian(rightPoints, nxtHyperplaneAxis) if len(rightPoints) > 0 else []\n",
    "        \n",
    "#         return currNode"
   ]
  },
  {
   "cell_type": "code",
   "execution_count": 184,
   "id": "3deba41f",
   "metadata": {},
   "outputs": [],
   "source": [
    "import statistics\n",
    "import numpy as np\n",
    "import sys\n",
    "from graphviz import Digraph\n",
    "from kdtree import KDTree, Node"
   ]
  },
  {
   "cell_type": "code",
   "execution_count": 185,
   "id": "02153bfc",
   "metadata": {},
   "outputs": [],
   "source": [
    "points = np.array([(86, 338), (164, 360), (75, 58), (5,358), (400, 346), (281, 411), (136, 39), (324, 54),(296,332)])"
   ]
  },
  {
   "cell_type": "code",
   "execution_count": 186,
   "id": "00828d46",
   "metadata": {},
   "outputs": [
    {
     "name": "stdout",
     "output_type": "stream",
     "text": [
      "in buildKDTree\n"
     ]
    },
    {
     "ename": "NameError",
     "evalue": "name 'buildTreeWithMedian' is not defined",
     "output_type": "error",
     "traceback": [
      "\u001b[1;31m---------------------------------------------------------------------------\u001b[0m",
      "\u001b[1;31mNameError\u001b[0m                                 Traceback (most recent call last)",
      "\u001b[1;32m<ipython-input-186-2700a22cc910>\u001b[0m in \u001b[0;36m<module>\u001b[1;34m\u001b[0m\n\u001b[0;32m      1\u001b[0m \u001b[0mkdObj\u001b[0m \u001b[1;33m=\u001b[0m \u001b[0mKDTree\u001b[0m\u001b[1;33m(\u001b[0m\u001b[1;33m)\u001b[0m\u001b[1;33m\u001b[0m\u001b[1;33m\u001b[0m\u001b[0m\n\u001b[1;32m----> 2\u001b[1;33m \u001b[0mroot\u001b[0m \u001b[1;33m=\u001b[0m \u001b[0mkdObj\u001b[0m\u001b[1;33m.\u001b[0m\u001b[0mbuildKdTree\u001b[0m\u001b[1;33m(\u001b[0m\u001b[0mpoints\u001b[0m\u001b[1;33m,\u001b[0m \u001b[1;33m[\u001b[0m\u001b[1;36m10\u001b[0m\u001b[1;33m,\u001b[0m \u001b[1;36m20\u001b[0m\u001b[1;33m,\u001b[0m \u001b[1;36m30\u001b[0m\u001b[1;33m,\u001b[0m \u001b[1;36m29\u001b[0m\u001b[1;33m,\u001b[0m \u001b[1;36m40\u001b[0m\u001b[1;33m,\u001b[0m \u001b[1;36m5\u001b[0m\u001b[1;33m,\u001b[0m \u001b[1;36m34\u001b[0m\u001b[1;33m,\u001b[0m \u001b[1;36m25\u001b[0m\u001b[1;33m,\u001b[0m\u001b[1;36m18\u001b[0m\u001b[1;33m]\u001b[0m\u001b[1;33m)\u001b[0m\u001b[1;33m\u001b[0m\u001b[1;33m\u001b[0m\u001b[0m\n\u001b[0m",
      "\u001b[1;32m~\\OneDrive - University of Illinois Chicago\\Master's\\sem-4\\Geodata analysis\\project\\kdtree\\kdtreePython\\kdtree_main\\kdtree.py\u001b[0m in \u001b[0;36mbuildKdTree\u001b[1;34m(self, points, hyperplaneAxis, weights)\u001b[0m\n\u001b[0;32m     86\u001b[0m                 \u001b[1;32mreturn\u001b[0m\u001b[1;33m\u001b[0m\u001b[1;33m\u001b[0m\u001b[0m\n\u001b[0;32m     87\u001b[0m             \u001b[0mpoints\u001b[0m \u001b[1;33m=\u001b[0m \u001b[1;33m[\u001b[0m\u001b[1;33m[\u001b[0m\u001b[0mpoint\u001b[0m\u001b[1;33m,\u001b[0m \u001b[0mweight\u001b[0m\u001b[1;33m]\u001b[0m \u001b[1;32mfor\u001b[0m \u001b[0mpoint\u001b[0m\u001b[1;33m,\u001b[0m \u001b[0mweight\u001b[0m \u001b[1;32min\u001b[0m \u001b[0mzip\u001b[0m\u001b[1;33m(\u001b[0m\u001b[0mpoints\u001b[0m\u001b[1;33m,\u001b[0m \u001b[0mweights\u001b[0m\u001b[1;33m)\u001b[0m\u001b[1;33m]\u001b[0m\u001b[1;33m\u001b[0m\u001b[1;33m\u001b[0m\u001b[0m\n\u001b[1;32m---> 88\u001b[1;33m         \u001b[1;32mreturn\u001b[0m \u001b[0mself\u001b[0m\u001b[1;33m.\u001b[0m\u001b[0mbuildTreeWithMedian\u001b[0m\u001b[1;33m(\u001b[0m\u001b[0mpoints\u001b[0m\u001b[1;33m)\u001b[0m\u001b[1;33m\u001b[0m\u001b[1;33m\u001b[0m\u001b[0m\n\u001b[0m\u001b[0;32m     89\u001b[0m \u001b[1;33m\u001b[0m\u001b[0m\n\u001b[0;32m     90\u001b[0m \u001b[1;31m#     @classmethod\u001b[0m\u001b[1;33m\u001b[0m\u001b[1;33m\u001b[0m\u001b[1;33m\u001b[0m\u001b[0m\n",
      "\u001b[1;31mNameError\u001b[0m: name 'buildTreeWithMedian' is not defined"
     ]
    }
   ],
   "source": [
    "kdObj = KDTree()\n",
    "root = kdObj.buildKdTree(points, [10, 20, 30, 29, 40, 5, 34, 25,18])"
   ]
  },
  {
   "cell_type": "code",
   "execution_count": 177,
   "id": "6ee06890",
   "metadata": {},
   "outputs": [],
   "source": [
    "res = kdObj.preorderTraversal(root)"
   ]
  },
  {
   "cell_type": "code",
   "execution_count": 172,
   "id": "eecc5c82",
   "metadata": {},
   "outputs": [],
   "source": [
    "res = kdObj.dfs(root)"
   ]
  },
  {
   "cell_type": "code",
   "execution_count": 173,
   "id": "1ff7a794",
   "metadata": {},
   "outputs": [
    {
     "data": {
      "text/plain": [
       "{'[array([164, 360]), 0, 9, 20, 5, 40]': ['[array([ 86, 338]), 1, 4, 10, 10, 34]',\n",
       "  '[array([400, 346]), 1, 4, 40, 5, 40]'],\n",
       " '[array([ 86, 338]), 1, 4, 10, 10, 34]': ['[array([136,  39]), 0, 2, 34, 30, 34]',\n",
       "  '[array([  5, 358]), 0, 1, 29, 29, 29]'],\n",
       " '[array([400, 346]), 1, 4, 40, 5, 40]': ['[array([324,  54]), 0, 2, 25, 18, 25]',\n",
       "  '[array([281, 411]), 0, 1, 5, 5, 5]'],\n",
       " '[array([136,  39]), 0, 2, 34, 30, 34]': ['[array([75, 58]), 1, 1, 30, 30, 30]'],\n",
       " '[array([  5, 358]), 0, 1, 29, 29, 29]': [],\n",
       " '[array([324,  54]), 0, 2, 25, 18, 25]': ['[array([296, 332]), 1, 1, 18, 18, 18]'],\n",
       " '[array([281, 411]), 0, 1, 5, 5, 5]': [],\n",
       " '[array([75, 58]), 1, 1, 30, 30, 30]': [],\n",
       " '[array([296, 332]), 1, 1, 18, 18, 18]': []}"
      ]
     },
     "execution_count": 173,
     "metadata": {},
     "output_type": "execute_result"
    }
   ],
   "source": [
    "res"
   ]
  },
  {
   "cell_type": "code",
   "execution_count": 86,
   "id": "39158fac",
   "metadata": {},
   "outputs": [],
   "source": [
    "import testClass"
   ]
  },
  {
   "cell_type": "code",
   "execution_count": 87,
   "id": "f2efd2b0",
   "metadata": {},
   "outputs": [
    {
     "data": {
      "text/plain": [
       "['__builtins__',\n",
       " '__cached__',\n",
       " '__doc__',\n",
       " '__file__',\n",
       " '__loader__',\n",
       " '__name__',\n",
       " '__package__',\n",
       " '__spec__',\n",
       " 'student']"
      ]
     },
     "execution_count": 87,
     "metadata": {},
     "output_type": "execute_result"
    }
   ],
   "source": [
    "dir(testClass)"
   ]
  },
  {
   "cell_type": "code",
   "execution_count": 76,
   "id": "4d05ee8b",
   "metadata": {},
   "outputs": [],
   "source": [
    "s1 = testClass.student(\"moni\", 26, \"1011\")"
   ]
  },
  {
   "cell_type": "code",
   "execution_count": 77,
   "id": "51f3a496",
   "metadata": {},
   "outputs": [
    {
     "data": {
      "text/plain": [
       "<testClass.student at 0x2ae8dcf3820>"
      ]
     },
     "execution_count": 77,
     "metadata": {},
     "output_type": "execute_result"
    }
   ],
   "source": [
    "s1"
   ]
  },
  {
   "cell_type": "code",
   "execution_count": 78,
   "id": "3ff27c6e",
   "metadata": {},
   "outputs": [
    {
     "ename": "TypeError",
     "evalue": "printDetails() takes 0 positional arguments but 1 was given",
     "output_type": "error",
     "traceback": [
      "\u001b[1;31m---------------------------------------------------------------------------\u001b[0m",
      "\u001b[1;31mTypeError\u001b[0m                                 Traceback (most recent call last)",
      "\u001b[1;32m<ipython-input-78-be4422ccebe5>\u001b[0m in \u001b[0;36m<module>\u001b[1;34m\u001b[0m\n\u001b[1;32m----> 1\u001b[1;33m \u001b[0ms1\u001b[0m\u001b[1;33m.\u001b[0m\u001b[0mprintDetails\u001b[0m\u001b[1;33m(\u001b[0m\u001b[1;33m)\u001b[0m\u001b[1;33m\u001b[0m\u001b[1;33m\u001b[0m\u001b[0m\n\u001b[0m",
      "\u001b[1;31mTypeError\u001b[0m: printDetails() takes 0 positional arguments but 1 was given"
     ]
    }
   ],
   "source": [
    "s1.printDetails()"
   ]
  },
  {
   "cell_type": "code",
   "execution_count": 79,
   "id": "cfd7e4f8",
   "metadata": {},
   "outputs": [
    {
     "ename": "AttributeError",
     "evalue": "module 'testClass' has no attribute 'methodOutsideClass'",
     "output_type": "error",
     "traceback": [
      "\u001b[1;31m---------------------------------------------------------------------------\u001b[0m",
      "\u001b[1;31mAttributeError\u001b[0m                            Traceback (most recent call last)",
      "\u001b[1;32m<ipython-input-79-d344e1731a75>\u001b[0m in \u001b[0;36m<module>\u001b[1;34m\u001b[0m\n\u001b[1;32m----> 1\u001b[1;33m \u001b[0mtestClass\u001b[0m\u001b[1;33m.\u001b[0m\u001b[0mmethodOutsideClass\u001b[0m\u001b[1;33m(\u001b[0m\u001b[1;33m)\u001b[0m\u001b[1;33m\u001b[0m\u001b[1;33m\u001b[0m\u001b[0m\n\u001b[0m",
      "\u001b[1;31mAttributeError\u001b[0m: module 'testClass' has no attribute 'methodOutsideClass'"
     ]
    }
   ],
   "source": [
    "testClass.methodOutsideClass()"
   ]
  },
  {
   "cell_type": "code",
   "execution_count": 80,
   "id": "9123f94e",
   "metadata": {},
   "outputs": [
    {
     "ename": "NameError",
     "evalue": "name 'testclass' is not defined",
     "output_type": "error",
     "traceback": [
      "\u001b[1;31m---------------------------------------------------------------------------\u001b[0m",
      "\u001b[1;31mNameError\u001b[0m                                 Traceback (most recent call last)",
      "\u001b[1;32m<ipython-input-80-d500c77d2dd9>\u001b[0m in \u001b[0;36m<module>\u001b[1;34m\u001b[0m\n\u001b[1;32m----> 1\u001b[1;33m \u001b[0mdir\u001b[0m\u001b[1;33m(\u001b[0m\u001b[0mtestclass\u001b[0m\u001b[1;33m)\u001b[0m\u001b[1;33m\u001b[0m\u001b[1;33m\u001b[0m\u001b[0m\n\u001b[0m",
      "\u001b[1;31mNameError\u001b[0m: name 'testclass' is not defined"
     ]
    }
   ],
   "source": [
    "dir(testclass)"
   ]
  },
  {
   "cell_type": "code",
   "execution_count": null,
   "id": "892dc896",
   "metadata": {},
   "outputs": [],
   "source": []
  }
 ],
 "metadata": {
  "kernelspec": {
   "display_name": "Python 3",
   "language": "python",
   "name": "python3"
  },
  "language_info": {
   "codemirror_mode": {
    "name": "ipython",
    "version": 3
   },
   "file_extension": ".py",
   "mimetype": "text/x-python",
   "name": "python",
   "nbconvert_exporter": "python",
   "pygments_lexer": "ipython3",
   "version": "3.8.8"
  },
  "toc": {
   "base_numbering": 1,
   "nav_menu": {},
   "number_sections": true,
   "sideBar": true,
   "skip_h1_title": false,
   "title_cell": "Table of Contents",
   "title_sidebar": "Contents",
   "toc_cell": true,
   "toc_position": {},
   "toc_section_display": true,
   "toc_window_display": false
  }
 },
 "nbformat": 4,
 "nbformat_minor": 5
}
