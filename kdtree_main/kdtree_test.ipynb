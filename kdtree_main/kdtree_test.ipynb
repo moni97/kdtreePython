{
 "cells": [
  {
   "cell_type": "markdown",
   "id": "1142d9a2",
   "metadata": {
    "toc": true
   },
   "source": [
    "<h1>Table of Contents<span class=\"tocSkip\"></span></h1>\n",
    "<div class=\"toc\"><ul class=\"toc-item\"></ul></div>"
   ]
  },
  {
   "cell_type": "code",
   "execution_count": 12,
   "id": "0c293fa0",
   "metadata": {},
   "outputs": [],
   "source": [
    "from kdtree import KDTree, Node\n",
    "import unittest\n",
    "import numpy as np"
   ]
  },
  {
   "cell_type": "code",
   "execution_count": 51,
   "id": "7dfa6b76",
   "metadata": {},
   "outputs": [],
   "source": [
    "class TestKDTree(unittest.TestCase):\n",
    "    def setUp(self):\n",
    "        self.kdTree = KDTree()\n",
    "        self.kdTreeRoot = self.kdTree.buildKdTree(np.array([(12,34), (25,36), (9,10)]))\n",
    "    \n",
    "    def test_buildKdTree_without_weights(self):\n",
    "        self.assertEqual(self.kdTreeRoot.weight, None, \"Weights present\")\n",
    "    \n",
    "    def test_buildKdTree_with_weights(self):\n",
    "        kdTreeWithWeights = self.kdTree.buildKdTree(np.array([(12,34), (25,36), (9,10)]), [10, 20, 30])\n",
    "        self.assertEqual(kdTreeWithWeights.weight[\"weight\"], 10)\n",
    "        \n",
    "    def test_isLeaf(self):\n",
    "        res = self.kdTree.isLeaf(self.kdTreeRoot.left)\n",
    "        self.assertEqual(res, True, \"Incorrect value\")"
   ]
  },
  {
   "cell_type": "code",
   "execution_count": 52,
   "id": "715b4a65",
   "metadata": {},
   "outputs": [
    {
     "name": "stderr",
     "output_type": "stream",
     "text": [
      "test_buildKdTree_with_weights (__main__.TestKDTree) ... ok\n",
      "test_buildKdTree_without_weights (__main__.TestKDTree) ... ok\n",
      "test_isLeaf (__main__.TestKDTree) ... ok\n",
      "\n",
      "----------------------------------------------------------------------\n",
      "Ran 3 tests in 0.006s\n",
      "\n",
      "OK\n"
     ]
    },
    {
     "data": {
      "text/plain": [
       "<unittest.main.TestProgram at 0x207bc6ee910>"
      ]
     },
     "execution_count": 52,
     "metadata": {},
     "output_type": "execute_result"
    }
   ],
   "source": [
    "unittest.main(argv=[''], verbosity=2, exit=False)"
   ]
  },
  {
   "cell_type": "code",
   "execution_count": null,
   "id": "e4a541b7",
   "metadata": {},
   "outputs": [],
   "source": []
  }
 ],
 "metadata": {
  "kernelspec": {
   "display_name": "Python 3",
   "language": "python",
   "name": "python3"
  },
  "language_info": {
   "codemirror_mode": {
    "name": "ipython",
    "version": 3
   },
   "file_extension": ".py",
   "mimetype": "text/x-python",
   "name": "python",
   "nbconvert_exporter": "python",
   "pygments_lexer": "ipython3",
   "version": "3.8.8"
  },
  "toc": {
   "base_numbering": 1,
   "nav_menu": {},
   "number_sections": true,
   "sideBar": true,
   "skip_h1_title": false,
   "title_cell": "Table of Contents",
   "title_sidebar": "Contents",
   "toc_cell": true,
   "toc_position": {},
   "toc_section_display": true,
   "toc_window_display": false
  }
 },
 "nbformat": 4,
 "nbformat_minor": 5
}
