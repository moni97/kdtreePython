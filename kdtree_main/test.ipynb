{
 "cells": [
  {
   "cell_type": "markdown",
   "id": "592b23ec",
   "metadata": {
    "toc": true
   },
   "source": [
    "<h1>Table of Contents<span class=\"tocSkip\"></span></h1>\n",
    "<div class=\"toc\"><ul class=\"toc-item\"></ul></div>"
   ]
  },
  {
   "cell_type": "code",
   "execution_count": 7,
   "id": "3deba41f",
   "metadata": {},
   "outputs": [],
   "source": [
    "import statistics\n",
    "import numpy as np\n",
    "import sys\n",
    "from graphviz import Digraph\n",
    "from kdtree import KDTree, Node"
   ]
  },
  {
   "cell_type": "code",
   "execution_count": 8,
   "id": "02153bfc",
   "metadata": {},
   "outputs": [],
   "source": [
    "points = np.array([(86, 338), (164, 360), (75, 58), (5,358), (400, 346), (281, 411), (136, 39), (324, 54),(296,332)])"
   ]
  },
  {
   "cell_type": "code",
   "execution_count": 9,
   "id": "00828d46",
   "metadata": {},
   "outputs": [
    {
     "name": "stdout",
     "output_type": "stream",
     "text": [
      "in buildTreeWithMedian\n",
      "in buildTreeWithMedian\n",
      "in buildTreeWithMedian\n",
      "in buildTreeWithMedian\n",
      "in buildTreeWithMedian\n",
      "in buildTreeWithMedian\n",
      "in buildTreeWithMedian\n",
      "in buildTreeWithMedian\n",
      "in buildTreeWithMedian\n"
     ]
    }
   ],
   "source": [
    "kdObj = KDTree()\n",
    "root = kdObj.buildKdTree(points, [10, 20, 30, 29, 40, 5, 34, 25,18])"
   ]
  },
  {
   "cell_type": "code",
   "execution_count": 10,
   "id": "6ee06890",
   "metadata": {},
   "outputs": [
    {
     "data": {
      "text/plain": [
       "[[array([75, 58])],\n",
       " [array([136,  39])],\n",
       " [array([  5, 358])],\n",
       " [array([ 86, 338])],\n",
       " [array([296, 332])],\n",
       " [array([324,  54])],\n",
       " [array([281, 411])],\n",
       " [array([400, 346])],\n",
       " [array([164, 360])]]"
      ]
     },
     "execution_count": 10,
     "metadata": {},
     "output_type": "execute_result"
    }
   ],
   "source": [
    "res = kdObj.preorderTraversal(root)\n",
    "res"
   ]
  },
  {
   "cell_type": "code",
   "execution_count": 11,
   "id": "eecc5c82",
   "metadata": {},
   "outputs": [],
   "source": [
    "res = kdObj.dfs(root)"
   ]
  },
  {
   "cell_type": "code",
   "execution_count": 12,
   "id": "1ff7a794",
   "metadata": {},
   "outputs": [
    {
     "data": {
      "text/plain": [
       "{'[array([164, 360]), 0, 9, 20, 5, 40]': ['[array([ 86, 338]), 1, 4, 10, 10, 34]',\n",
       "  '[array([400, 346]), 1, 4, 40, 5, 40]'],\n",
       " '[array([ 86, 338]), 1, 4, 10, 10, 34]': ['[array([136,  39]), 0, 2, 34, 30, 34]',\n",
       "  '[array([  5, 358]), 0, 1, 29, 29, 29]'],\n",
       " '[array([400, 346]), 1, 4, 40, 5, 40]': ['[array([324,  54]), 0, 2, 25, 18, 25]',\n",
       "  '[array([281, 411]), 0, 1, 5, 5, 5]'],\n",
       " '[array([136,  39]), 0, 2, 34, 30, 34]': ['[array([75, 58]), 1, 1, 30, 30, 30]'],\n",
       " '[array([  5, 358]), 0, 1, 29, 29, 29]': [],\n",
       " '[array([324,  54]), 0, 2, 25, 18, 25]': ['[array([296, 332]), 1, 1, 18, 18, 18]'],\n",
       " '[array([281, 411]), 0, 1, 5, 5, 5]': [],\n",
       " '[array([75, 58]), 1, 1, 30, 30, 30]': [],\n",
       " '[array([296, 332]), 1, 1, 18, 18, 18]': []}"
      ]
     },
     "execution_count": 12,
     "metadata": {},
     "output_type": "execute_result"
    }
   ],
   "source": [
    "res"
   ]
  },
  {
   "cell_type": "code",
   "execution_count": null,
   "id": "805b53f9",
   "metadata": {},
   "outputs": [],
   "source": []
  },
  {
   "cell_type": "code",
   "execution_count": null,
   "id": "b87f5191",
   "metadata": {},
   "outputs": [],
   "source": []
  }
 ],
 "metadata": {
  "kernelspec": {
   "display_name": "Python 3",
   "language": "python",
   "name": "python3"
  },
  "language_info": {
   "codemirror_mode": {
    "name": "ipython",
    "version": 3
   },
   "file_extension": ".py",
   "mimetype": "text/x-python",
   "name": "python",
   "nbconvert_exporter": "python",
   "pygments_lexer": "ipython3",
   "version": "3.8.8"
  },
  "toc": {
   "base_numbering": 1,
   "nav_menu": {},
   "number_sections": true,
   "sideBar": true,
   "skip_h1_title": false,
   "title_cell": "Table of Contents",
   "title_sidebar": "Contents",
   "toc_cell": true,
   "toc_position": {},
   "toc_section_display": true,
   "toc_window_display": false
  }
 },
 "nbformat": 4,
 "nbformat_minor": 5
}
