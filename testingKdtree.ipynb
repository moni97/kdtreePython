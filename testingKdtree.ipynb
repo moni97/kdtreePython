{
 "cells": [
  {
   "cell_type": "markdown",
   "id": "6b72c9fc",
   "metadata": {
    "toc": true
   },
   "source": [
    "<h1>Table of Contents<span class=\"tocSkip\"></span></h1>\n",
    "<div class=\"toc\"><ul class=\"toc-item\"></ul></div>"
   ]
  },
  {
   "cell_type": "code",
   "execution_count": 2,
   "id": "56e74b89",
   "metadata": {},
   "outputs": [
    {
     "data": {
      "image/png": "[encoded data removed]",
      "text/plain": [
       "<Figure size 432x432 with 1 Axes>"
      ]
     },
     "metadata": {
      "needs_background": "light"
     },
     "output_type": "display_data"
    },
    {
     "data": {
      "image/png": "[encoded data removed]",
      "text/plain": [
       "<Figure size 432x288 with 1 Axes>"
      ]
     },
     "metadata": {
      "needs_background": "light"
     },
     "output_type": "display_data"
    }
   ],
   "source": [
    "import matplotlib.pyplot as plt\n",
    "import numpy as np\n",
    "from scipy.spatial import KDTree\n"
   ]
  },
  {
   "cell_type": "code",
   "execution_count": null,
   "id": "55de3982",
   "metadata": {},
   "outputs": [],
   "source": [
    "# Getting points for kdtree\n",
    "rng = np.random.default_rng()\n",
    "points = rng.random((20, 2))\n",
    "plt.figure(figsize=(6, 6))\n",
    "plt.plot(points[:, 0], points[:, 1], \"xk\", markersize=14)\n",
    "plt.show()\n",
    "kd_tree = KDTree(points)"
   ]
  },
  {
   "cell_type": "code",
   "execution_count": null,
   "id": "c30411a5",
   "metadata": {},
   "outputs": [],
   "source": [
    "# Query ball function: get the pairs in a specific radius.\n",
    "pairs = kd_tree.query_pairs(r=0.2)\n",
    "for (i, j) in pairs:\n",
    "    plt.plot([points[i, 0], points[j, 0]],\n",
    "            [points[i, 1], points[j, 1]], \"-r\")\n",
    "plt.show()"
   ]
  },
  {
   "cell_type": "code",
   "execution_count": 8,
   "id": "dcba286a",
   "metadata": {},
   "outputs": [
    {
     "data": {
      "text/plain": [
       "(array([0.24598602]), array([5], dtype=int64))"
      ]
     },
     "execution_count": 8,
     "metadata": {},
     "output_type": "execute_result"
    }
   ],
   "source": [
    "# using query method\n",
    "dd, ii = kd_tree.query([[0, 0]], k=1)\n",
    "dd, ii"
   ]
  },
  {
   "cell_type": "code",
   "execution_count": 9,
   "id": "29049809",
   "metadata": {},
   "outputs": [
    {
     "data": {
      "text/plain": [
       "array([[0.85382329, 0.47324357],\n",
       "       [0.36100352, 0.43824999],\n",
       "       [0.73832602, 0.23881097],\n",
       "       [0.17199733, 0.91761276],\n",
       "       [0.21052793, 0.34708474],\n",
       "       [0.24538028, 0.01725221],\n",
       "       [0.51522319, 0.90627173],\n",
       "       [0.72226304, 0.14310059],\n",
       "       [0.17216943, 0.76558676],\n",
       "       [0.93794915, 0.66769166],\n",
       "       [0.58585487, 0.64772503],\n",
       "       [0.68944539, 0.25614365],\n",
       "       [0.06233886, 0.60303737],\n",
       "       [0.4947922 , 0.95457457],\n",
       "       [0.30426606, 0.16935321],\n",
       "       [0.46591252, 0.77963768],\n",
       "       [0.63879167, 0.61891162],\n",
       "       [0.86622143, 0.52174975],\n",
       "       [0.2953975 , 0.652058  ],\n",
       "       [0.27933505, 0.05398117]])"
      ]
     },
     "execution_count": 9,
     "metadata": {},
     "output_type": "execute_result"
    }
   ],
   "source": [
    "points"
   ]
  },
  {
   "cell_type": "code",
   "execution_count": 11,
   "id": "b32bc915",
   "metadata": {},
   "outputs": [
    {
     "ename": "TypeError",
     "evalue": "'KDTree' object is not subscriptable",
     "output_type": "error",
     "traceback": [
      "\u001b[1;31m---------------------------------------------------------------------------\u001b[0m",
      "\u001b[1;31mTypeError\u001b[0m                                 Traceback (most recent call last)",
      "\u001b[1;32m<ipython-input-11-707f7598507e>\u001b[0m in \u001b[0;36m<module>\u001b[1;34m\u001b[0m\n\u001b[1;32m----> 1\u001b[1;33m \u001b[0mkd_tree\u001b[0m\u001b[1;33m[\u001b[0m\u001b[1;36m5\u001b[0m\u001b[1;33m]\u001b[0m\u001b[1;33m\u001b[0m\u001b[1;33m\u001b[0m\u001b[0m\n\u001b[0m",
      "\u001b[1;31mTypeError\u001b[0m: 'KDTree' object is not subscriptable"
     ]
    }
   ],
   "source": [
    "kd_tree[5]"
   ]
  },
  {
   "cell_type": "code",
   "execution_count": null,
   "id": "ff1f09c5",
   "metadata": {},
   "outputs": [],
   "source": []
  }
 ],
 "metadata": {
  "kernelspec": {
   "display_name": "Python 3",
   "language": "python",
   "name": "python3"
  },
  "language_info": {
   "codemirror_mode": {
    "name": "ipython",
    "version": 3
   },
   "file_extension": ".py",
   "mimetype": "text/x-python",
   "name": "python",
   "nbconvert_exporter": "python",
   "pygments_lexer": "ipython3",
   "version": "3.8.8"
  },
  "toc": {
   "base_numbering": 1,
   "nav_menu": {},
   "number_sections": true,
   "sideBar": true,
   "skip_h1_title": false,
   "title_cell": "Table of Contents",
   "title_sidebar": "Contents",
   "toc_cell": true,
   "toc_position": {},
   "toc_section_display": true,
   "toc_window_display": false
  }
 },
 "nbformat": 4,
 "nbformat_minor": 5
}
