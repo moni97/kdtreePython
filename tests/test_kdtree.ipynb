{
 "cells": [
  {
   "cell_type": "markdown",
   "id": "996e6ee1",
   "metadata": {
    "toc": true
   },
   "source": [
    "<h1>Table of Contents<span class=\"tocSkip\"></span></h1>\n",
    "<div class=\"toc\"><ul class=\"toc-item\"></ul></div>"
   ]
  },
  {
   "cell_type": "code",
   "execution_count": 1,
   "id": "95a4ca7b",
   "metadata": {},
   "outputs": [],
   "source": [
    "from kd_tree.kdtree import KDTree, Node\n",
    "import unittest\n",
    "import numpy as np"
   ]
  },
  {
   "cell_type": "code",
   "execution_count": 2,
   "id": "43350919",
   "metadata": {},
   "outputs": [],
   "source": [
    "import sys\n",
    "sys.path.append(r\"C:\\Users\\msidda2\\OneDrive - University of Illinois Chicago\\Master's\\sem-4\\Geodata analysis\\kd_tree\")"
   ]
  },
  {
   "cell_type": "code",
   "execution_count": 3,
   "id": "df44f08c",
   "metadata": {},
   "outputs": [],
   "source": [
    "class TestKDTree(unittest.TestCase):\n",
    "    def setUp(self):\n",
    "        self.kdTree = KDTree()\n",
    "        self.kdTreeRoot = self.kdTree.buildKdTree(np.array([(12,34), (25,36), (9,10)]))\n",
    "    \n",
    "    # buildKdTree methods\n",
    "    def test_buildKdTree_without_weights(self):\n",
    "        self.assertEqual(self.kdTreeRoot.weight, None, \"Weights present\")\n",
    "    \n",
    "    def test_buildKdTree_single_point_without_weight(self):\n",
    "        kdTreeWithoutWts = self.kdTree.buildKdTree(np.array([(12,34)]))\n",
    "        self.assertTrue((kdTreeWithoutWts.val == (12, 34)).all(), \"Wrong values\")\n",
    "        \n",
    "    def test_buildKdTree_single_point_with_weight(self):\n",
    "        kdTreeWithWeights = self.kdTree.buildKdTree(np.array([(12,34)]), [10])\n",
    "        self.assertTrue((kdTreeWithWeights.val == (12, 34)).all(), \"Wrong values\")\n",
    "        self.assertEqual(kdTreeWithWeights.weight[\"weight\"], 10)\n",
    "        \n",
    "    def test_buildKdTree_multiple_points_with_weight1(self):\n",
    "        kdTreeWithWeights = self.kdTree.buildKdTree(np.array([(12,34), (25,36), (9,10), (5, 15), (30, 20), (20, 27)]), [10, 20, 5, 15, 25, 30])\n",
    "        self.assertTrue((kdTreeWithWeights.val == (20, 27)).all(), \"Wrong values\")\n",
    "        self.assertEqual(kdTreeWithWeights.weight[\"weight\"], 30, \"Weights incompatible\")\n",
    "        \n",
    "    def test_buildKdTree_multiple_points_with_weight2(self):\n",
    "        kdTreeWithWeights = self.kdTree.buildKdTree(np.array([(12,34), (25,36), (9,10)]), [10, 20, 30])\n",
    "        self.assertTrue((kdTreeWithWeights.val == (12, 34)).all(), \"Wrong values\")\n",
    "        self.assertEqual(kdTreeWithWeights.weight[\"weight\"], 10, \"\")\n",
    "    \n",
    "    def test_buildKdTree_multiple_points_with_weight2(self):\n",
    "        kdTreeWithWeights = self.kdTree.buildKdTree(np.array([(12,34), (25,36)]), [10, 20])\n",
    "        self.assertTrue((kdTreeWithWeights.val == (25, 36)).all(), \"Wrong values\")\n",
    "        self.assertEqual(kdTreeWithWeights.weight[\"weight\"], 20, \"\")\n",
    "        \n",
    "    def test_isLeaf(self):\n",
    "        res = self.kdTree.isLeaf(self.kdTreeRoot.left)\n",
    "        self.assertEqual(res, True, \"Incorrect value\")\n",
    "    \n",
    "    def test_buildKdTree_with_incompatible_weights(self):\n",
    "        kdTreeWithWeights = self.kdTree.buildKdTree(np.array([(12,34), (25,36), (9,10)]), [10, 20])\n",
    "        self.assertEqual(kdTreeWithWeights, None, \"Weights incompatible\")\n",
    "        \n",
    "    "
   ]
  },
  {
   "cell_type": "code",
   "execution_count": 4,
   "id": "d33bd0a8",
   "metadata": {},
   "outputs": [
    {
     "name": "stderr",
     "output_type": "stream",
     "text": [
      "test_buildKdTree_multiple_points_with_weight1 (__main__.TestKDTree) ... ok\n",
      "test_buildKdTree_multiple_points_with_weight2 (__main__.TestKDTree) ... ok\n",
      "test_buildKdTree_single_point_with_weight (__main__.TestKDTree) ... ok\n",
      "test_buildKdTree_single_point_without_weight (__main__.TestKDTree) ... ok\n",
      "test_buildKdTree_with_incompatible_weights (__main__.TestKDTree) ... ok\n",
      "test_buildKdTree_without_weights (__main__.TestKDTree) ... ok\n",
      "test_isLeaf (__main__.TestKDTree) ... "
     ]
    },
    {
     "name": "stdout",
     "output_type": "stream",
     "text": [
      "Incompatible len of points and weights\n"
     ]
    },
    {
     "name": "stderr",
     "output_type": "stream",
     "text": [
      "ok\n",
      "\n",
      "----------------------------------------------------------------------\n",
      "Ran 7 tests in 0.013s\n",
      "\n",
      "OK\n"
     ]
    },
    {
     "data": {
      "text/plain": [
       "<unittest.main.TestProgram at 0x1716f6dc370>"
      ]
     },
     "execution_count": 4,
     "metadata": {},
     "output_type": "execute_result"
    }
   ],
   "source": [
    "unittest.main(argv=[''], verbosity=2, exit=False)"
   ]
  },
  {
   "cell_type": "code",
   "execution_count": null,
   "id": "990349af",
   "metadata": {},
   "outputs": [],
   "source": []
  }
 ],
 "metadata": {
  "kernelspec": {
   "display_name": "Python 3",
   "language": "python",
   "name": "python3"
  },
  "language_info": {
   "codemirror_mode": {
    "name": "ipython",
    "version": 3
   },
   "file_extension": ".py",
   "mimetype": "text/x-python",
   "name": "python",
   "nbconvert_exporter": "python",
   "pygments_lexer": "ipython3",
   "version": "3.8.8"
  },
  "toc": {
   "base_numbering": 1,
   "nav_menu": {},
   "number_sections": true,
   "sideBar": true,
   "skip_h1_title": false,
   "title_cell": "Table of Contents",
   "title_sidebar": "Contents",
   "toc_cell": true,
   "toc_position": {},
   "toc_section_display": true,
   "toc_window_display": false
  }
 },
 "nbformat": 4,
 "nbformat_minor": 5
}
